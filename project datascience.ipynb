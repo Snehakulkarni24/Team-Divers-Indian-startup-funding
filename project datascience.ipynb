{
 "cells": [
  {
   "cell_type": "markdown",
   "metadata": {
    "id": "1ZODfnCvVVzc"
   },
   "source": [
    "# ISE 7B\n",
    "\n",
    "Team - Data Divers\n",
    "\n",
    "1MS18IS103 - Sneha Kulkarni\n",
    "\n",
    "1MS18IS121 - Vaishnavi S\n",
    "\n",
    "1MS18IS122 - Vandana G\n",
    "\n",
    "1MS18IS124 - Vijaya Madhuri T A"
   ]
  },
  {
   "cell_type": "markdown",
   "metadata": {},
   "source": [
    "# INDIAN STARTUP FUNDING"
   ]
  },
  {
   "cell_type": "markdown",
   "metadata": {},
   "source": [
    "Research question : How startup funding in India has changed over time and which industries are favoured?"
   ]
  },
  {
   "cell_type": "markdown",
   "metadata": {
    "id": "w-U3-Y0kdwym"
   },
   "source": [
    "**Introduction**\n",
    "The Indian startup Ecosystem started in the late 1960s with the start of\n",
    "TCS, followed by Infosys in 1981 and others. These startups started as\n",
    "software services serving Indian software needs, and later expanding to\n",
    "exporting software services. Being so startup friendly the country has\n",
    "attracted numerous numbers of investors, both national and international.\n",
    "Therefore a large amount of money is poured into the startup ecosystem.\n",
    "Startup is defined as “an entrepreneurial venture or a new business in the\n",
    "form of a Company, a partnership or temporary organization designed and\n",
    "searched for a repeatable and scalable business model. Startup India\n",
    "brings excitement and immense possibilities for the future. India\n",
    "acknowledged the stark reality of modern business and its complexity.\n",
    "India has one of the largest startup ecosystems in the world, expected to\n",
    "witness growth of 10–12%. With ~20,000 startups in India, around 4,750 of\n",
    "these are technology-led startups 1,400 new tech startups were born in\n",
    "2016 alone, implying there are 3–4 tech startups born every day.\n",
    "Considering all these factors, analyzing startup funding becomes\n",
    "interesting."
   ]
  },
  {
   "cell_type": "markdown",
   "metadata": {
    "id": "pj7NtS_seOu5"
   },
   "source": [
    "**Summary** \n",
    "In the present decade, India is planning a vital shift in the direction of\n",
    "startup welcoming policies and a business-friendly or entrepreneur’s\n",
    "environment. India is one of the fastest growing countries in terms of\n",
    "entrepreneurship. This project intends to offer an analytical\n",
    "overview of the boom and potentialities of startup systems in India i.e the\n",
    "progress made by India so far. Therefore, this research can contribute to a\n",
    "better understanding of the Investment and financing strategy of\n",
    "entrepreneurial ventures.\n",
    "This project presents the trend and growth pattern of startup ventures,\n",
    "their types and different stages of funding in India. The prime objective of\n",
    "this research was to study the growth pattern of the startups and stages\n",
    "of funding received by these startups. The analysis has shown Indian\n",
    "start-up companies prefer primarily funding in four different stages, such\n",
    "as early stage, growth stage, expansion stage and bridge funding. The\n",
    "result has also shown that maximum funding was received in the expansion\n",
    "stage in the financial years."
   ]
  },
  {
   "cell_type": "markdown",
   "metadata": {
    "id": "fri0NSLlrOeE"
   },
   "source": [
    "# Importing Libraries"
   ]
  },
  {
   "cell_type": "code",
   "execution_count": 1,
   "metadata": {
    "executionInfo": {
     "elapsed": 1712,
     "status": "ok",
     "timestamp": 1642528825169,
     "user": {
      "displayName": "Sneha Kulkarni",
      "photoUrl": "https://lh3.googleusercontent.com/a/default-user=s64",
      "userId": "13641806021709480975"
     },
     "user_tz": -330
    },
    "id": "VWHhI7HGksFL"
   },
   "outputs": [],
   "source": [
    "import pandas as pd\n",
    "import matplotlib.pyplot as plt\n",
    "import seaborn as sns\n",
    "import numpy as np"
   ]
  },
  {
   "cell_type": "markdown",
   "metadata": {
    "id": "43LR4QkEfkf9"
   },
   "source": [
    "**Dataset Information:** We got the dataset from Kaggle and Github. This dataset has funding information of the Indian startups from 2016 to 2020. It includes columns with the date funded, the name of the startup, the city the startup is based out of, the names of the funders, and the amount invested (in USD)."
   ]
  },
  {
   "cell_type": "markdown",
   "metadata": {
    "id": "duSknjMPgSmW"
   },
   "source": [
    "**Questions to be analysed --**\n",
    "* Total funding in each year\n",
    "* Top 10 industries which are favourite of Investors.\n",
    "* Top 10 cities which have maximum startups.\n",
    "* Top 10 Industry where funding is maximum.\n",
    "* Percentage share of startups based on location\n",
    "* Top 10 types of investment with maximum startups."
   ]
  },
  {
   "cell_type": "markdown",
   "metadata": {
    "id": "8cV1gzoErfXE"
   },
   "source": [
    "Importing the data"
   ]
  },
  {
   "cell_type": "code",
   "execution_count": 2,
   "metadata": {
    "colab": {
     "base_uri": "https://localhost:8080/",
     "height": 206
    },
    "executionInfo": {
     "elapsed": 144,
     "status": "ok",
     "timestamp": 1642528825173,
     "user": {
      "displayName": "Sneha Kulkarni",
      "photoUrl": "https://lh3.googleusercontent.com/a/default-user=s64",
      "userId": "13641806021709480975"
     },
     "user_tz": -330
    },
    "id": "V9i-SW65k9gS",
    "outputId": "147fe67e-eac9-4fde-8be3-2de1cdfc6053"
   },
   "outputs": [
    {
     "data": {
      "text/html": [
       "\n",
       "  <div id=\"df-dfd1faa5-1c4a-4f2b-927b-2b3874e4fd67\">\n",
       "    <div class=\"colab-df-container\">\n",
       "      <div>\n",
       "<style scoped>\n",
       "    .dataframe tbody tr th:only-of-type {\n",
       "        vertical-align: middle;\n",
       "    }\n",
       "\n",
       "    .dataframe tbody tr th {\n",
       "        vertical-align: top;\n",
       "    }\n",
       "\n",
       "    .dataframe thead th {\n",
       "        text-align: right;\n",
       "    }\n",
       "</style>\n",
       "<table border=\"1\" class=\"dataframe\">\n",
       "  <thead>\n",
       "    <tr style=\"text-align: right;\">\n",
       "      <th></th>\n",
       "      <th>Date</th>\n",
       "      <th>Startup Name</th>\n",
       "      <th>Industry</th>\n",
       "      <th>Investors</th>\n",
       "      <th>Investment Type</th>\n",
       "      <th>Location</th>\n",
       "      <th>Amount in USD</th>\n",
       "    </tr>\n",
       "  </thead>\n",
       "  <tbody>\n",
       "    <tr>\n",
       "      <th>0</th>\n",
       "      <td>08-04-2016</td>\n",
       "      <td>imedilane</td>\n",
       "      <td>Consumer Internet</td>\n",
       "      <td>Mahendra Patel, Nilender Chauhan</td>\n",
       "      <td>Seed Funding</td>\n",
       "      <td>New Delhi</td>\n",
       "      <td>40000</td>\n",
       "    </tr>\n",
       "    <tr>\n",
       "      <th>1</th>\n",
       "      <td>08-04-2016</td>\n",
       "      <td>Little Black Book</td>\n",
       "      <td>Consumer Internet</td>\n",
       "      <td>IDG, Indian Angel Network</td>\n",
       "      <td>Seed Funding</td>\n",
       "      <td>New Delhi</td>\n",
       "      <td>NaN</td>\n",
       "    </tr>\n",
       "    <tr>\n",
       "      <th>2</th>\n",
       "      <td>08-04-2016</td>\n",
       "      <td>Vahan</td>\n",
       "      <td>Education</td>\n",
       "      <td>Villgro</td>\n",
       "      <td>Seed Funding</td>\n",
       "      <td>Chennai</td>\n",
       "      <td>NaN</td>\n",
       "    </tr>\n",
       "    <tr>\n",
       "      <th>3</th>\n",
       "      <td>08-04-2016</td>\n",
       "      <td>Little Black Book</td>\n",
       "      <td>Consumer Internet</td>\n",
       "      <td>IDG, Indian Angel Network</td>\n",
       "      <td>Seed Funding</td>\n",
       "      <td>New Delhi</td>\n",
       "      <td>NaN</td>\n",
       "    </tr>\n",
       "    <tr>\n",
       "      <th>4</th>\n",
       "      <td>08-04-2016</td>\n",
       "      <td>Vahan</td>\n",
       "      <td>Education</td>\n",
       "      <td>Villgro</td>\n",
       "      <td>Seed Funding</td>\n",
       "      <td>Chennai</td>\n",
       "      <td>NaN</td>\n",
       "    </tr>\n",
       "  </tbody>\n",
       "</table>\n",
       "</div>\n",
       "      <button class=\"colab-df-convert\" onclick=\"convertToInteractive('df-dfd1faa5-1c4a-4f2b-927b-2b3874e4fd67')\"\n",
       "              title=\"Convert this dataframe to an interactive table.\"\n",
       "              style=\"display:none;\">\n",
       "        \n",
       "  <svg xmlns=\"http://www.w3.org/2000/svg\" height=\"24px\"viewBox=\"0 0 24 24\"\n",
       "       width=\"24px\">\n",
       "    <path d=\"M0 0h24v24H0V0z\" fill=\"none\"/>\n",
       "    <path d=\"M18.56 5.44l.94 2.06.94-2.06 2.06-.94-2.06-.94-.94-2.06-.94 2.06-2.06.94zm-11 1L8.5 8.5l.94-2.06 2.06-.94-2.06-.94L8.5 2.5l-.94 2.06-2.06.94zm10 10l.94 2.06.94-2.06 2.06-.94-2.06-.94-.94-2.06-.94 2.06-2.06.94z\"/><path d=\"M17.41 7.96l-1.37-1.37c-.4-.4-.92-.59-1.43-.59-.52 0-1.04.2-1.43.59L10.3 9.45l-7.72 7.72c-.78.78-.78 2.05 0 2.83L4 21.41c.39.39.9.59 1.41.59.51 0 1.02-.2 1.41-.59l7.78-7.78 2.81-2.81c.8-.78.8-2.07 0-2.86zM5.41 20L4 18.59l7.72-7.72 1.47 1.35L5.41 20z\"/>\n",
       "  </svg>\n",
       "      </button>\n",
       "      \n",
       "  <style>\n",
       "    .colab-df-container {\n",
       "      display:flex;\n",
       "      flex-wrap:wrap;\n",
       "      gap: 12px;\n",
       "    }\n",
       "\n",
       "    .colab-df-convert {\n",
       "      background-color: #E8F0FE;\n",
       "      border: none;\n",
       "      border-radius: 50%;\n",
       "      cursor: pointer;\n",
       "      display: none;\n",
       "      fill: #1967D2;\n",
       "      height: 32px;\n",
       "      padding: 0 0 0 0;\n",
       "      width: 32px;\n",
       "    }\n",
       "\n",
       "    .colab-df-convert:hover {\n",
       "      background-color: #E2EBFA;\n",
       "      box-shadow: 0px 1px 2px rgba(60, 64, 67, 0.3), 0px 1px 3px 1px rgba(60, 64, 67, 0.15);\n",
       "      fill: #174EA6;\n",
       "    }\n",
       "\n",
       "    [theme=dark] .colab-df-convert {\n",
       "      background-color: #3B4455;\n",
       "      fill: #D2E3FC;\n",
       "    }\n",
       "\n",
       "    [theme=dark] .colab-df-convert:hover {\n",
       "      background-color: #434B5C;\n",
       "      box-shadow: 0px 1px 3px 1px rgba(0, 0, 0, 0.15);\n",
       "      filter: drop-shadow(0px 1px 2px rgba(0, 0, 0, 0.3));\n",
       "      fill: #FFFFFF;\n",
       "    }\n",
       "  </style>\n",
       "\n",
       "      <script>\n",
       "        const buttonEl =\n",
       "          document.querySelector('#df-dfd1faa5-1c4a-4f2b-927b-2b3874e4fd67 button.colab-df-convert');\n",
       "        buttonEl.style.display =\n",
       "          google.colab.kernel.accessAllowed ? 'block' : 'none';\n",
       "\n",
       "        async function convertToInteractive(key) {\n",
       "          const element = document.querySelector('#df-dfd1faa5-1c4a-4f2b-927b-2b3874e4fd67');\n",
       "          const dataTable =\n",
       "            await google.colab.kernel.invokeFunction('convertToInteractive',\n",
       "                                                     [key], {});\n",
       "          if (!dataTable) return;\n",
       "\n",
       "          const docLinkHtml = 'Like what you see? Visit the ' +\n",
       "            '<a target=\"_blank\" href=https://colab.research.google.com/notebooks/data_table.ipynb>data table notebook</a>'\n",
       "            + ' to learn more about interactive tables.';\n",
       "          element.innerHTML = '';\n",
       "          dataTable['output_type'] = 'display_data';\n",
       "          await google.colab.output.renderOutput(dataTable, element);\n",
       "          const docLink = document.createElement('div');\n",
       "          docLink.innerHTML = docLinkHtml;\n",
       "          element.appendChild(docLink);\n",
       "        }\n",
       "      </script>\n",
       "    </div>\n",
       "  </div>\n",
       "  "
      ],
      "text/plain": [
       "         Date       Startup Name  ...   Location Amount in USD\n",
       "0  08-04-2016          imedilane  ...  New Delhi         40000\n",
       "1  08-04-2016  Little Black Book  ...  New Delhi           NaN\n",
       "2  08-04-2016              Vahan  ...    Chennai           NaN\n",
       "3  08-04-2016  Little Black Book  ...  New Delhi           NaN\n",
       "4  08-04-2016              Vahan  ...    Chennai           NaN\n",
       "\n",
       "[5 rows x 7 columns]"
      ]
     },
     "execution_count": 2,
     "metadata": {},
     "output_type": "execute_result"
    }
   ],
   "source": [
    "df = pd.read_csv('indian_startup_funding(raw).csv', encoding='unicode_escape')\n",
    "#df.drop(['Unnamed: 7'], axis=1, inplace=True)\n",
    "df.head()"
   ]
  },
  {
   "cell_type": "markdown",
   "metadata": {
    "id": "namdB-f1ssQy"
   },
   "source": [
    "Knowing our data"
   ]
  },
  {
   "cell_type": "code",
   "execution_count": 3,
   "metadata": {
    "colab": {
     "base_uri": "https://localhost:8080/",
     "height": 193
    },
    "executionInfo": {
     "elapsed": 136,
     "status": "ok",
     "timestamp": 1642528825177,
     "user": {
      "displayName": "Sneha Kulkarni",
      "photoUrl": "https://lh3.googleusercontent.com/a/default-user=s64",
      "userId": "13641806021709480975"
     },
     "user_tz": -330
    },
    "id": "4JpCqDnB_uWi",
    "outputId": "6191dfd8-0eca-4d80-f929-6d888cc907e8"
   },
   "outputs": [
    {
     "name": "stdout",
     "output_type": "stream",
     "text": [
      "Shape of data :  (3743, 7)\n"
     ]
    },
    {
     "data": {
      "text/html": [
       "\n",
       "  <div id=\"df-cbe54b83-8ec8-4643-8614-e9a908d6054c\">\n",
       "    <div class=\"colab-df-container\">\n",
       "      <div>\n",
       "<style scoped>\n",
       "    .dataframe tbody tr th:only-of-type {\n",
       "        vertical-align: middle;\n",
       "    }\n",
       "\n",
       "    .dataframe tbody tr th {\n",
       "        vertical-align: top;\n",
       "    }\n",
       "\n",
       "    .dataframe thead th {\n",
       "        text-align: right;\n",
       "    }\n",
       "</style>\n",
       "<table border=\"1\" class=\"dataframe\">\n",
       "  <thead>\n",
       "    <tr style=\"text-align: right;\">\n",
       "      <th></th>\n",
       "      <th>Date</th>\n",
       "      <th>Startup Name</th>\n",
       "      <th>Industry</th>\n",
       "      <th>Investors</th>\n",
       "      <th>Investment Type</th>\n",
       "      <th>Location</th>\n",
       "      <th>Amount in USD</th>\n",
       "    </tr>\n",
       "  </thead>\n",
       "  <tbody>\n",
       "    <tr>\n",
       "      <th>count</th>\n",
       "      <td>3743</td>\n",
       "      <td>3743</td>\n",
       "      <td>3743</td>\n",
       "      <td>3719</td>\n",
       "      <td>3736</td>\n",
       "      <td>3732</td>\n",
       "      <td>2478</td>\n",
       "    </tr>\n",
       "    <tr>\n",
       "      <th>unique</th>\n",
       "      <td>864</td>\n",
       "      <td>1932</td>\n",
       "      <td>174</td>\n",
       "      <td>1897</td>\n",
       "      <td>90</td>\n",
       "      <td>69</td>\n",
       "      <td>685</td>\n",
       "    </tr>\n",
       "    <tr>\n",
       "      <th>top</th>\n",
       "      <td>01-12-2020</td>\n",
       "      <td>Nykaa</td>\n",
       "      <td>Consumer Internet</td>\n",
       "      <td>Undisclosed Investors</td>\n",
       "      <td>Seed Funding</td>\n",
       "      <td>Bangalore</td>\n",
       "      <td>1000000</td>\n",
       "    </tr>\n",
       "    <tr>\n",
       "      <th>freq</th>\n",
       "      <td>41</td>\n",
       "      <td>10</td>\n",
       "      <td>1722</td>\n",
       "      <td>56</td>\n",
       "      <td>1703</td>\n",
       "      <td>987</td>\n",
       "      <td>125</td>\n",
       "    </tr>\n",
       "  </tbody>\n",
       "</table>\n",
       "</div>\n",
       "      <button class=\"colab-df-convert\" onclick=\"convertToInteractive('df-cbe54b83-8ec8-4643-8614-e9a908d6054c')\"\n",
       "              title=\"Convert this dataframe to an interactive table.\"\n",
       "              style=\"display:none;\">\n",
       "        \n",
       "  <svg xmlns=\"http://www.w3.org/2000/svg\" height=\"24px\"viewBox=\"0 0 24 24\"\n",
       "       width=\"24px\">\n",
       "    <path d=\"M0 0h24v24H0V0z\" fill=\"none\"/>\n",
       "    <path d=\"M18.56 5.44l.94 2.06.94-2.06 2.06-.94-2.06-.94-.94-2.06-.94 2.06-2.06.94zm-11 1L8.5 8.5l.94-2.06 2.06-.94-2.06-.94L8.5 2.5l-.94 2.06-2.06.94zm10 10l.94 2.06.94-2.06 2.06-.94-2.06-.94-.94-2.06-.94 2.06-2.06.94z\"/><path d=\"M17.41 7.96l-1.37-1.37c-.4-.4-.92-.59-1.43-.59-.52 0-1.04.2-1.43.59L10.3 9.45l-7.72 7.72c-.78.78-.78 2.05 0 2.83L4 21.41c.39.39.9.59 1.41.59.51 0 1.02-.2 1.41-.59l7.78-7.78 2.81-2.81c.8-.78.8-2.07 0-2.86zM5.41 20L4 18.59l7.72-7.72 1.47 1.35L5.41 20z\"/>\n",
       "  </svg>\n",
       "      </button>\n",
       "      \n",
       "  <style>\n",
       "    .colab-df-container {\n",
       "      display:flex;\n",
       "      flex-wrap:wrap;\n",
       "      gap: 12px;\n",
       "    }\n",
       "\n",
       "    .colab-df-convert {\n",
       "      background-color: #E8F0FE;\n",
       "      border: none;\n",
       "      border-radius: 50%;\n",
       "      cursor: pointer;\n",
       "      display: none;\n",
       "      fill: #1967D2;\n",
       "      height: 32px;\n",
       "      padding: 0 0 0 0;\n",
       "      width: 32px;\n",
       "    }\n",
       "\n",
       "    .colab-df-convert:hover {\n",
       "      background-color: #E2EBFA;\n",
       "      box-shadow: 0px 1px 2px rgba(60, 64, 67, 0.3), 0px 1px 3px 1px rgba(60, 64, 67, 0.15);\n",
       "      fill: #174EA6;\n",
       "    }\n",
       "\n",
       "    [theme=dark] .colab-df-convert {\n",
       "      background-color: #3B4455;\n",
       "      fill: #D2E3FC;\n",
       "    }\n",
       "\n",
       "    [theme=dark] .colab-df-convert:hover {\n",
       "      background-color: #434B5C;\n",
       "      box-shadow: 0px 1px 3px 1px rgba(0, 0, 0, 0.15);\n",
       "      filter: drop-shadow(0px 1px 2px rgba(0, 0, 0, 0.3));\n",
       "      fill: #FFFFFF;\n",
       "    }\n",
       "  </style>\n",
       "\n",
       "      <script>\n",
       "        const buttonEl =\n",
       "          document.querySelector('#df-cbe54b83-8ec8-4643-8614-e9a908d6054c button.colab-df-convert');\n",
       "        buttonEl.style.display =\n",
       "          google.colab.kernel.accessAllowed ? 'block' : 'none';\n",
       "\n",
       "        async function convertToInteractive(key) {\n",
       "          const element = document.querySelector('#df-cbe54b83-8ec8-4643-8614-e9a908d6054c');\n",
       "          const dataTable =\n",
       "            await google.colab.kernel.invokeFunction('convertToInteractive',\n",
       "                                                     [key], {});\n",
       "          if (!dataTable) return;\n",
       "\n",
       "          const docLinkHtml = 'Like what you see? Visit the ' +\n",
       "            '<a target=\"_blank\" href=https://colab.research.google.com/notebooks/data_table.ipynb>data table notebook</a>'\n",
       "            + ' to learn more about interactive tables.';\n",
       "          element.innerHTML = '';\n",
       "          dataTable['output_type'] = 'display_data';\n",
       "          await google.colab.output.renderOutput(dataTable, element);\n",
       "          const docLink = document.createElement('div');\n",
       "          docLink.innerHTML = docLinkHtml;\n",
       "          element.appendChild(docLink);\n",
       "        }\n",
       "      </script>\n",
       "    </div>\n",
       "  </div>\n",
       "  "
      ],
      "text/plain": [
       "              Date Startup Name  ...   Location Amount in USD\n",
       "count         3743         3743  ...       3732          2478\n",
       "unique         864         1932  ...         69           685\n",
       "top     01-12-2020        Nykaa  ...  Bangalore       1000000\n",
       "freq            41           10  ...        987           125\n",
       "\n",
       "[4 rows x 7 columns]"
      ]
     },
     "execution_count": 3,
     "metadata": {},
     "output_type": "execute_result"
    }
   ],
   "source": [
    "print('Shape of data : ',df.shape)\n",
    "df.describe()"
   ]
  },
  {
   "cell_type": "code",
   "execution_count": 4,
   "metadata": {
    "colab": {
     "base_uri": "https://localhost:8080/"
    },
    "executionInfo": {
     "elapsed": 130,
     "status": "ok",
     "timestamp": 1642528825179,
     "user": {
      "displayName": "Sneha Kulkarni",
      "photoUrl": "https://lh3.googleusercontent.com/a/default-user=s64",
      "userId": "13641806021709480975"
     },
     "user_tz": -330
    },
    "id": "aYkuXJAFtSxA",
    "outputId": "a0ce83b0-1171-4fde-b0af-e992909ed7b1"
   },
   "outputs": [
    {
     "data": {
      "text/plain": [
       "Index(['Date', 'Startup Name', 'Industry', 'Investors', 'Investment Type',\n",
       "       'Location', 'Amount in USD'],\n",
       "      dtype='object')"
      ]
     },
     "execution_count": 4,
     "metadata": {},
     "output_type": "execute_result"
    }
   ],
   "source": [
    "df.columns"
   ]
  },
  {
   "cell_type": "code",
   "execution_count": 5,
   "metadata": {
    "colab": {
     "base_uri": "https://localhost:8080/"
    },
    "executionInfo": {
     "elapsed": 131,
     "status": "ok",
     "timestamp": 1642528825184,
     "user": {
      "displayName": "Sneha Kulkarni",
      "photoUrl": "https://lh3.googleusercontent.com/a/default-user=s64",
      "userId": "13641806021709480975"
     },
     "user_tz": -330
    },
    "id": "FCC1_V8zlFXO",
    "outputId": "7c1c1ca0-e9b3-4eed-8361-6637060c24b2"
   },
   "outputs": [
    {
     "name": "stdout",
     "output_type": "stream",
     "text": [
      "<class 'pandas.core.frame.DataFrame'>\n",
      "RangeIndex: 3743 entries, 0 to 3742\n",
      "Data columns (total 7 columns):\n",
      " #   Column           Non-Null Count  Dtype \n",
      "---  ------           --------------  ----- \n",
      " 0   Date             3743 non-null   object\n",
      " 1   Startup Name     3743 non-null   object\n",
      " 2   Industry         3743 non-null   object\n",
      " 3   Investors        3719 non-null   object\n",
      " 4   Investment Type  3736 non-null   object\n",
      " 5   Location         3732 non-null   object\n",
      " 6   Amount in USD    2478 non-null   object\n",
      "dtypes: object(7)\n",
      "memory usage: 204.8+ KB\n"
     ]
    }
   ],
   "source": [
    "df.info()"
   ]
  },
  {
   "cell_type": "code",
   "execution_count": 6,
   "metadata": {
    "colab": {
     "base_uri": "https://localhost:8080/"
    },
    "executionInfo": {
     "elapsed": 126,
     "status": "ok",
     "timestamp": 1642528825185,
     "user": {
      "displayName": "Sneha Kulkarni",
      "photoUrl": "https://lh3.googleusercontent.com/a/default-user=s64",
      "userId": "13641806021709480975"
     },
     "user_tz": -330
    },
    "id": "WWYpC_1NlKqw",
    "outputId": "169fafed-088e-40df-a5d1-c267c85914f0"
   },
   "outputs": [
    {
     "data": {
      "text/plain": [
       "Date                  0\n",
       "Startup Name          0\n",
       "Industry              0\n",
       "Investors            24\n",
       "Investment Type       7\n",
       "Location             11\n",
       "Amount in USD      1265\n",
       "dtype: int64"
      ]
     },
     "execution_count": 6,
     "metadata": {},
     "output_type": "execute_result"
    }
   ],
   "source": [
    "df.isnull().sum()"
   ]
  },
  {
   "cell_type": "markdown",
   "metadata": {
    "id": "9SWk7flTLnVl"
   },
   "source": [
    "Data Pre-Processing"
   ]
  },
  {
   "cell_type": "markdown",
   "metadata": {
    "id": "St8lr6hLi6BP"
   },
   "source": [
    "Data preprocessing is a data mining technique which is used to\n",
    "transform the raw data in a useful and efficient format.\n"
   ]
  },
  {
   "cell_type": "markdown",
   "metadata": {
    "id": "UvgC5C3JqQpQ"
   },
   "source": [
    "**Converting all values to lowercase**"
   ]
  },
  {
   "cell_type": "code",
   "execution_count": 7,
   "metadata": {
    "executionInfo": {
     "elapsed": 121,
     "status": "ok",
     "timestamp": 1642528825186,
     "user": {
      "displayName": "Sneha Kulkarni",
      "photoUrl": "https://lh3.googleusercontent.com/a/default-user=s64",
      "userId": "13641806021709480975"
     },
     "user_tz": -330
    },
    "id": "uHa_y2V_ov0o"
   },
   "outputs": [],
   "source": [
    "df['Startup Name'] = df['Startup Name'].str.lower()\n",
    "df['Industry'] = df['Industry'].str.lower()\n",
    "df['Location'] = df['Location'].str.lower()\n",
    "df['Investment Type'] = df['Investment Type'].str.lower()\n",
    "df['Investors'] = df['Investors'].str.lower()\n"
   ]
  },
  {
   "cell_type": "markdown",
   "metadata": {
    "id": "JuATdmA_jlFH"
   },
   "source": [
    "**EDA** It involves generating summary statistics for numerical data in the\n",
    "dataset and creating various graphical representations to understand the\n",
    "data better.\n",
    "Exploratory Data Analysis is a crucial step before you jump to machine\n",
    "learning or modeling of your data. By doing this we can get to know\n",
    "whether the selected features are good enough to model, are all the\n",
    "features required, are there any correlations based on which we can either\n",
    "go back to the Data Pre-processing step or move on to modeling."
   ]
  },
  {
   "cell_type": "markdown",
   "metadata": {
    "id": "lF3NwFz_OjIn"
   },
   "source": [
    "**Replacing misspelled attributes**"
   ]
  },
  {
   "cell_type": "markdown",
   "metadata": {
    "id": "PqNtzqJ5jS8f"
   },
   "source": [
    "Since we will deal with only Indian States & Cities, We will replace all the cities where multiple cities are given with first Indian City/state"
   ]
  },
  {
   "cell_type": "code",
   "execution_count": 8,
   "metadata": {
    "executionInfo": {
     "elapsed": 121,
     "status": "ok",
     "timestamp": 1642528825188,
     "user": {
      "displayName": "Sneha Kulkarni",
      "photoUrl": "https://lh3.googleusercontent.com/a/default-user=s64",
      "userId": "13641806021709480975"
     },
     "user_tz": -330
    },
    "id": "k3oiqAPfokW_"
   },
   "outputs": [],
   "source": [
    "df['Location'] = df['Location'].replace(['bangalore','bengaluru','sfo / bangalore'],'bangalore')\n",
    "df['Location'] = df['Location'].replace(['new delhi','delhi'],'new delhi')\n",
    "df['Location'] = df['Location'].replace(['ahmedabad','ahemadabad'],'ahmedabad')\n",
    "df['Location'] = df['Location'].replace(['kormangala','bangalore'],'bangalore')\n",
    "#df['Investment type'] = df['Investment type'].replace([''])"
   ]
  },
  {
   "cell_type": "markdown",
   "metadata": {
    "id": "sZKpncaKqGUa"
   },
   "source": [
    "Removing "
   ]
  },
  {
   "cell_type": "code",
   "execution_count": 9,
   "metadata": {
    "executionInfo": {
     "elapsed": 123,
     "status": "ok",
     "timestamp": 1642528825191,
     "user": {
      "displayName": "Sneha Kulkarni",
      "photoUrl": "https://lh3.googleusercontent.com/a/default-user=s64",
      "userId": "13641806021709480975"
     },
     "user_tz": -330
    },
    "id": "VnXCk0DeDvNV"
   },
   "outputs": [],
   "source": [
    "#df.drop(df[df['Location'] == nan].index, inplace = True)\n",
    "df.drop(df[df['Location'] == 'india'].index, inplace = True)\n",
    "df.drop(df[df['Location'] == 'karnataka'].index, inplace = True)"
   ]
  },
  {
   "cell_type": "markdown",
   "metadata": {
    "id": "6KGQe9uwqjCy"
   },
   "source": [
    "Grouping type of investment"
   ]
  },
  {
   "cell_type": "code",
   "execution_count": 10,
   "metadata": {
    "executionInfo": {
     "elapsed": 123,
     "status": "ok",
     "timestamp": 1642528825193,
     "user": {
      "displayName": "Sneha Kulkarni",
      "photoUrl": "https://lh3.googleusercontent.com/a/default-user=s64",
      "userId": "13641806021709480975"
     },
     "user_tz": -330
    },
    "id": "9yRey_3rEuPE"
   },
   "outputs": [],
   "source": [
    "df['Investment Type'] = df['Investment Type'].replace(['seed', 'funding','seed funding','in progress','seed funding round','seed round','seed/angel funding','seed / angel funding', 'angel / seed funding', 'angel funding', 'seed/ angel funding','funding round','personal investment','seed / angle funding','angel','m&a','angel round'],'seed')\n",
    "df['Investment Type'] = df['Investment Type'].replace(['debt financing' , 'debt-funding','debt funding', 'debt','debt and preference capital','structured debt'],'debt')\n",
    "df['Investment Type'] = df['Investment Type'].replace(['privateequity','private funding','private','privatefunding','equity based funding','equity', 'private equity','private equity round'],'private equity')\n",
    "df['Investment Type'] = df['Investment Type'].replace(['series 1','series a','pre-series a','pre series a','pre-series a funding'],'series a')\n",
    "df['Investment Type'] = df['Investment Type'].replace(['pre-series b','series b','series b (extension)'],'series b')\n",
    "df['Investment Type'] = df['Investment Type'].replace(['series c','series c1','pre-series c'],'series c')\n",
    "df['Investment Type'] = df['Investment Type'].replace(['series d1','series d'],'series d')\n",
    "df['Investment Type'] = df['Investment Type'].replace(['secondary market','bridge funding','follow-on','inhouse funding','corporate round','maiden round','bridge round','mezzanine','term loan'],'others')\n",
    "df['Investment Type'] = df['Investment Type'].replace(['venture', 'venture series','venture-series unknown', 'venture round', 'single venture', 'venture - series unknown'],'venture')\n",
    "df['Investment Type'] = df['Investment Type'].replace(['series e','pre-series e'],'series e')\n",
    "df['Investment Type'] = df['Investment Type'].replace(['pre seed','pre-seed', 'pre-seed funding','preseed'],'pre-seed')"
   ]
  },
  {
   "cell_type": "code",
   "execution_count": 11,
   "metadata": {
    "colab": {
     "base_uri": "https://localhost:8080/"
    },
    "executionInfo": {
     "elapsed": 125,
     "status": "ok",
     "timestamp": 1642528825195,
     "user": {
      "displayName": "Sneha Kulkarni",
      "photoUrl": "https://lh3.googleusercontent.com/a/default-user=s64",
      "userId": "13641806021709480975"
     },
     "user_tz": -330
    },
    "id": "AxRtQXsqwHaF",
    "outputId": "afe6f8d0-936e-4298-a0a3-84fac1954f21"
   },
   "outputs": [
    {
     "data": {
      "text/plain": [
       "Date                862\n",
       "Startup Name       1846\n",
       "Industry            149\n",
       "Investors          1871\n",
       "Investment Type      15\n",
       "Location             50\n",
       "Amount in USD       683\n",
       "dtype: int64"
      ]
     },
     "execution_count": 11,
     "metadata": {},
     "output_type": "execute_result"
    }
   ],
   "source": [
    "df.nunique()"
   ]
  },
  {
   "cell_type": "code",
   "execution_count": 12,
   "metadata": {
    "colab": {
     "base_uri": "https://localhost:8080/"
    },
    "executionInfo": {
     "elapsed": 121,
     "status": "ok",
     "timestamp": 1642528825197,
     "user": {
      "displayName": "Sneha Kulkarni",
      "photoUrl": "https://lh3.googleusercontent.com/a/default-user=s64",
      "userId": "13641806021709480975"
     },
     "user_tz": -330
    },
    "id": "KnFdfDHJEjLK",
    "outputId": "d1122f94-5541-4f28-c70c-107fbe189890"
   },
   "outputs": [
    {
     "data": {
      "text/plain": [
       "array(['seed', 'private equity', nan, 'debt', 'others', 'series e',\n",
       "       'series a', 'series c', 'series d', 'series b', 'venture',\n",
       "       'series j', 'series f', 'pre-seed', 'series g', 'series h'],\n",
       "      dtype=object)"
      ]
     },
     "execution_count": 12,
     "metadata": {},
     "output_type": "execute_result"
    }
   ],
   "source": [
    "df['Investment Type'].unique()"
   ]
  },
  {
   "cell_type": "code",
   "execution_count": 13,
   "metadata": {
    "colab": {
     "base_uri": "https://localhost:8080/"
    },
    "executionInfo": {
     "elapsed": 117,
     "status": "ok",
     "timestamp": 1642528825198,
     "user": {
      "displayName": "Sneha Kulkarni",
      "photoUrl": "https://lh3.googleusercontent.com/a/default-user=s64",
      "userId": "13641806021709480975"
     },
     "user_tz": -330
    },
    "id": "mKiluAwzwWZ5",
    "outputId": "99f4ff99-2ebd-4174-f65b-155b4a3270cd"
   },
   "outputs": [
    {
     "data": {
      "text/plain": [
       "array(['new delhi', 'chennai', 'mumbai', 'gurgaon', nan, 'bangalore',\n",
       "       'pune', 'jaipur', 'noida', 'chandigarh', 'hyderabad', 'vadodara',\n",
       "       'singapore', 'lucknow', 'kanpur', 'trivandrum', 'indore',\n",
       "       'siliguri', 'ahmedabad', 'kolkata', 'coimbatore', 'kerala',\n",
       "       'kozhikode', 'kochi', 'hubli', 'agra', 'goa', 'udupi', 'panaji',\n",
       "       'gwalior', 'karur', 'surat', 'gaya', 'gurugram', 'faridabad',\n",
       "       'ahemdabad', 'bhubaneswar', 'udaipur', 'srinagar', 'nagpur',\n",
       "       'rourkela', 'bhopal', 'nairobi', 'haryana', 'taramani', 'amritsar',\n",
       "       'patna', 'sohna', 'thane', 'varanasi', 'jodhpur'], dtype=object)"
      ]
     },
     "execution_count": 13,
     "metadata": {},
     "output_type": "execute_result"
    }
   ],
   "source": [
    "df['Location'].unique()"
   ]
  },
  {
   "cell_type": "code",
   "execution_count": 14,
   "metadata": {
    "executionInfo": {
     "elapsed": 114,
     "status": "ok",
     "timestamp": 1642528825200,
     "user": {
      "displayName": "Sneha Kulkarni",
      "photoUrl": "https://lh3.googleusercontent.com/a/default-user=s64",
      "userId": "13641806021709480975"
     },
     "user_tz": -330
    },
    "id": "UMadGXaFuEhZ"
   },
   "outputs": [],
   "source": [
    "df.rename(columns={'Amount in USD': 'Amount(USD)'}, inplace=True)"
   ]
  },
  {
   "cell_type": "markdown",
   "metadata": {
    "id": "3COpVzfntesD"
   },
   "source": [
    "**Removing commas from \"Amount in USD\" column**"
   ]
  },
  {
   "cell_type": "code",
   "execution_count": 15,
   "metadata": {
    "executionInfo": {
     "elapsed": 118,
     "status": "ok",
     "timestamp": 1642528825205,
     "user": {
      "displayName": "Sneha Kulkarni",
      "photoUrl": "https://lh3.googleusercontent.com/a/default-user=s64",
      "userId": "13641806021709480975"
     },
     "user_tz": -330
    },
    "id": "mz6XAKuvl4XA"
   },
   "outputs": [],
   "source": [
    "df[\"Amount(USD)\"] = df[\"Amount(USD)\"].apply(lambda x: str(x).replace(\",\",\"\"))\n",
    "df[\"Amount(USD)\"] = pd.to_numeric(df[\"Amount(USD)\"],errors='coerce')"
   ]
  },
  {
   "cell_type": "code",
   "execution_count": 16,
   "metadata": {
    "executionInfo": {
     "elapsed": 119,
     "status": "ok",
     "timestamp": 1642528825208,
     "user": {
      "displayName": "Sneha Kulkarni",
      "photoUrl": "https://lh3.googleusercontent.com/a/default-user=s64",
      "userId": "13641806021709480975"
     },
     "user_tz": -330
    },
    "id": "4mzqcm2-mwMr"
   },
   "outputs": [],
   "source": [
    "df['Amount(USD)'] = df['Amount(USD)'].fillna(df['Amount(USD)'].mode()[0])\n"
   ]
  },
  {
   "cell_type": "code",
   "execution_count": 17,
   "metadata": {
    "colab": {
     "base_uri": "https://localhost:8080/"
    },
    "executionInfo": {
     "elapsed": 120,
     "status": "ok",
     "timestamp": 1642528825210,
     "user": {
      "displayName": "Sneha Kulkarni",
      "photoUrl": "https://lh3.googleusercontent.com/a/default-user=s64",
      "userId": "13641806021709480975"
     },
     "user_tz": -330
    },
    "id": "oRxmbA3KMJ6Z",
    "outputId": "bcc2d42d-6f46-4625-fd09-9b5f964c7d3a"
   },
   "outputs": [
    {
     "data": {
      "text/plain": [
       "(3698, 7)"
      ]
     },
     "execution_count": 17,
     "metadata": {},
     "output_type": "execute_result"
    }
   ],
   "source": [
    "df = df.dropna()\n",
    "df.shape"
   ]
  },
  {
   "cell_type": "code",
   "execution_count": 18,
   "metadata": {
    "colab": {
     "base_uri": "https://localhost:8080/"
    },
    "executionInfo": {
     "elapsed": 115,
     "status": "ok",
     "timestamp": 1642528825211,
     "user": {
      "displayName": "Sneha Kulkarni",
      "photoUrl": "https://lh3.googleusercontent.com/a/default-user=s64",
      "userId": "13641806021709480975"
     },
     "user_tz": -330
    },
    "id": "99AlpmItn66-",
    "outputId": "5e26a3a0-a460-4781-937d-79c74f57892f"
   },
   "outputs": [
    {
     "data": {
      "text/plain": [
       "Date               0\n",
       "Startup Name       0\n",
       "Industry           0\n",
       "Investors          0\n",
       "Investment Type    0\n",
       "Location           0\n",
       "Amount(USD)        0\n",
       "dtype: int64"
      ]
     },
     "execution_count": 18,
     "metadata": {},
     "output_type": "execute_result"
    }
   ],
   "source": [
    "df.isnull().sum()"
   ]
  },
  {
   "cell_type": "markdown",
   "metadata": {
    "id": "iL5q9PduPBD2"
   },
   "source": [
    "**Splitting date into day, month and year**"
   ]
  },
  {
   "cell_type": "code",
   "execution_count": 19,
   "metadata": {
    "colab": {
     "base_uri": "https://localhost:8080/",
     "height": 206
    },
    "executionInfo": {
     "elapsed": 112,
     "status": "ok",
     "timestamp": 1642528825212,
     "user": {
      "displayName": "Sneha Kulkarni",
      "photoUrl": "https://lh3.googleusercontent.com/a/default-user=s64",
      "userId": "13641806021709480975"
     },
     "user_tz": -330
    },
    "id": "g3FuuHiBMwpK",
    "outputId": "3cc72112-a243-4fc7-c292-153eb71bfda1"
   },
   "outputs": [
    {
     "data": {
      "text/html": [
       "\n",
       "  <div id=\"df-289cb7af-5a37-4ea9-8c52-a7aaf2b84255\">\n",
       "    <div class=\"colab-df-container\">\n",
       "      <div>\n",
       "<style scoped>\n",
       "    .dataframe tbody tr th:only-of-type {\n",
       "        vertical-align: middle;\n",
       "    }\n",
       "\n",
       "    .dataframe tbody tr th {\n",
       "        vertical-align: top;\n",
       "    }\n",
       "\n",
       "    .dataframe thead th {\n",
       "        text-align: right;\n",
       "    }\n",
       "</style>\n",
       "<table border=\"1\" class=\"dataframe\">\n",
       "  <thead>\n",
       "    <tr style=\"text-align: right;\">\n",
       "      <th></th>\n",
       "      <th>Date</th>\n",
       "      <th>Startup Name</th>\n",
       "      <th>Industry</th>\n",
       "      <th>Investors</th>\n",
       "      <th>Investment Type</th>\n",
       "      <th>Location</th>\n",
       "      <th>Amount(USD)</th>\n",
       "      <th>day</th>\n",
       "      <th>month</th>\n",
       "      <th>year</th>\n",
       "    </tr>\n",
       "  </thead>\n",
       "  <tbody>\n",
       "    <tr>\n",
       "      <th>0</th>\n",
       "      <td>08-04-2016</td>\n",
       "      <td>imedilane</td>\n",
       "      <td>consumer internet</td>\n",
       "      <td>mahendra patel, nilender chauhan</td>\n",
       "      <td>seed</td>\n",
       "      <td>new delhi</td>\n",
       "      <td>40000.0</td>\n",
       "      <td>08</td>\n",
       "      <td>04</td>\n",
       "      <td>2016</td>\n",
       "    </tr>\n",
       "    <tr>\n",
       "      <th>1</th>\n",
       "      <td>08-04-2016</td>\n",
       "      <td>little black book</td>\n",
       "      <td>consumer internet</td>\n",
       "      <td>idg, indian angel network</td>\n",
       "      <td>seed</td>\n",
       "      <td>new delhi</td>\n",
       "      <td>1000000.0</td>\n",
       "      <td>08</td>\n",
       "      <td>04</td>\n",
       "      <td>2016</td>\n",
       "    </tr>\n",
       "    <tr>\n",
       "      <th>2</th>\n",
       "      <td>08-04-2016</td>\n",
       "      <td>vahan</td>\n",
       "      <td>education</td>\n",
       "      <td>villgro</td>\n",
       "      <td>seed</td>\n",
       "      <td>chennai</td>\n",
       "      <td>1000000.0</td>\n",
       "      <td>08</td>\n",
       "      <td>04</td>\n",
       "      <td>2016</td>\n",
       "    </tr>\n",
       "    <tr>\n",
       "      <th>3</th>\n",
       "      <td>08-04-2016</td>\n",
       "      <td>little black book</td>\n",
       "      <td>consumer internet</td>\n",
       "      <td>idg, indian angel network</td>\n",
       "      <td>seed</td>\n",
       "      <td>new delhi</td>\n",
       "      <td>1000000.0</td>\n",
       "      <td>08</td>\n",
       "      <td>04</td>\n",
       "      <td>2016</td>\n",
       "    </tr>\n",
       "    <tr>\n",
       "      <th>4</th>\n",
       "      <td>08-04-2016</td>\n",
       "      <td>vahan</td>\n",
       "      <td>education</td>\n",
       "      <td>villgro</td>\n",
       "      <td>seed</td>\n",
       "      <td>chennai</td>\n",
       "      <td>1000000.0</td>\n",
       "      <td>08</td>\n",
       "      <td>04</td>\n",
       "      <td>2016</td>\n",
       "    </tr>\n",
       "  </tbody>\n",
       "</table>\n",
       "</div>\n",
       "      <button class=\"colab-df-convert\" onclick=\"convertToInteractive('df-289cb7af-5a37-4ea9-8c52-a7aaf2b84255')\"\n",
       "              title=\"Convert this dataframe to an interactive table.\"\n",
       "              style=\"display:none;\">\n",
       "        \n",
       "  <svg xmlns=\"http://www.w3.org/2000/svg\" height=\"24px\"viewBox=\"0 0 24 24\"\n",
       "       width=\"24px\">\n",
       "    <path d=\"M0 0h24v24H0V0z\" fill=\"none\"/>\n",
       "    <path d=\"M18.56 5.44l.94 2.06.94-2.06 2.06-.94-2.06-.94-.94-2.06-.94 2.06-2.06.94zm-11 1L8.5 8.5l.94-2.06 2.06-.94-2.06-.94L8.5 2.5l-.94 2.06-2.06.94zm10 10l.94 2.06.94-2.06 2.06-.94-2.06-.94-.94-2.06-.94 2.06-2.06.94z\"/><path d=\"M17.41 7.96l-1.37-1.37c-.4-.4-.92-.59-1.43-.59-.52 0-1.04.2-1.43.59L10.3 9.45l-7.72 7.72c-.78.78-.78 2.05 0 2.83L4 21.41c.39.39.9.59 1.41.59.51 0 1.02-.2 1.41-.59l7.78-7.78 2.81-2.81c.8-.78.8-2.07 0-2.86zM5.41 20L4 18.59l7.72-7.72 1.47 1.35L5.41 20z\"/>\n",
       "  </svg>\n",
       "      </button>\n",
       "      \n",
       "  <style>\n",
       "    .colab-df-container {\n",
       "      display:flex;\n",
       "      flex-wrap:wrap;\n",
       "      gap: 12px;\n",
       "    }\n",
       "\n",
       "    .colab-df-convert {\n",
       "      background-color: #E8F0FE;\n",
       "      border: none;\n",
       "      border-radius: 50%;\n",
       "      cursor: pointer;\n",
       "      display: none;\n",
       "      fill: #1967D2;\n",
       "      height: 32px;\n",
       "      padding: 0 0 0 0;\n",
       "      width: 32px;\n",
       "    }\n",
       "\n",
       "    .colab-df-convert:hover {\n",
       "      background-color: #E2EBFA;\n",
       "      box-shadow: 0px 1px 2px rgba(60, 64, 67, 0.3), 0px 1px 3px 1px rgba(60, 64, 67, 0.15);\n",
       "      fill: #174EA6;\n",
       "    }\n",
       "\n",
       "    [theme=dark] .colab-df-convert {\n",
       "      background-color: #3B4455;\n",
       "      fill: #D2E3FC;\n",
       "    }\n",
       "\n",
       "    [theme=dark] .colab-df-convert:hover {\n",
       "      background-color: #434B5C;\n",
       "      box-shadow: 0px 1px 3px 1px rgba(0, 0, 0, 0.15);\n",
       "      filter: drop-shadow(0px 1px 2px rgba(0, 0, 0, 0.3));\n",
       "      fill: #FFFFFF;\n",
       "    }\n",
       "  </style>\n",
       "\n",
       "      <script>\n",
       "        const buttonEl =\n",
       "          document.querySelector('#df-289cb7af-5a37-4ea9-8c52-a7aaf2b84255 button.colab-df-convert');\n",
       "        buttonEl.style.display =\n",
       "          google.colab.kernel.accessAllowed ? 'block' : 'none';\n",
       "\n",
       "        async function convertToInteractive(key) {\n",
       "          const element = document.querySelector('#df-289cb7af-5a37-4ea9-8c52-a7aaf2b84255');\n",
       "          const dataTable =\n",
       "            await google.colab.kernel.invokeFunction('convertToInteractive',\n",
       "                                                     [key], {});\n",
       "          if (!dataTable) return;\n",
       "\n",
       "          const docLinkHtml = 'Like what you see? Visit the ' +\n",
       "            '<a target=\"_blank\" href=https://colab.research.google.com/notebooks/data_table.ipynb>data table notebook</a>'\n",
       "            + ' to learn more about interactive tables.';\n",
       "          element.innerHTML = '';\n",
       "          dataTable['output_type'] = 'display_data';\n",
       "          await google.colab.output.renderOutput(dataTable, element);\n",
       "          const docLink = document.createElement('div');\n",
       "          docLink.innerHTML = docLinkHtml;\n",
       "          element.appendChild(docLink);\n",
       "        }\n",
       "      </script>\n",
       "    </div>\n",
       "  </div>\n",
       "  "
      ],
      "text/plain": [
       "         Date       Startup Name           Industry  ... day month  year\n",
       "0  08-04-2016          imedilane  consumer internet  ...  08    04  2016\n",
       "1  08-04-2016  little black book  consumer internet  ...  08    04  2016\n",
       "2  08-04-2016              vahan          education  ...  08    04  2016\n",
       "3  08-04-2016  little black book  consumer internet  ...  08    04  2016\n",
       "4  08-04-2016              vahan          education  ...  08    04  2016\n",
       "\n",
       "[5 rows x 10 columns]"
      ]
     },
     "execution_count": 19,
     "metadata": {},
     "output_type": "execute_result"
    }
   ],
   "source": [
    "df[[\"day\", \"month\", \"year\"]] = df[\"Date\"].str.split(\"-\", expand = True)\n",
    "df.drop(['day', 'month', 'year'], axis = 1)\n",
    "df.head()"
   ]
  },
  {
   "cell_type": "markdown",
   "metadata": {
    "id": "6v78ClfWXORR"
   },
   "source": [
    "Dropping unnecessary columns"
   ]
  },
  {
   "cell_type": "code",
   "execution_count": 20,
   "metadata": {
    "executionInfo": {
     "elapsed": 109,
     "status": "ok",
     "timestamp": 1642528825212,
     "user": {
      "displayName": "Sneha Kulkarni",
      "photoUrl": "https://lh3.googleusercontent.com/a/default-user=s64",
      "userId": "13641806021709480975"
     },
     "user_tz": -330
    },
    "id": "hvxIB-AnNf9K"
   },
   "outputs": [],
   "source": [
    "df=df.drop(['Date'],axis=1)"
   ]
  },
  {
   "cell_type": "code",
   "execution_count": 21,
   "metadata": {
    "executionInfo": {
     "elapsed": 109,
     "status": "ok",
     "timestamp": 1642528825213,
     "user": {
      "displayName": "Sneha Kulkarni",
      "photoUrl": "https://lh3.googleusercontent.com/a/default-user=s64",
      "userId": "13641806021709480975"
     },
     "user_tz": -330
    },
    "id": "ExHLylWYOJnT"
   },
   "outputs": [],
   "source": [
    "df['Amount(USD)'] = pd.to_numeric(df['Amount(USD)'])"
   ]
  },
  {
   "cell_type": "code",
   "execution_count": 22,
   "metadata": {
    "colab": {
     "base_uri": "https://localhost:8080/"
    },
    "executionInfo": {
     "elapsed": 108,
     "status": "ok",
     "timestamp": 1642528825213,
     "user": {
      "displayName": "Sneha Kulkarni",
      "photoUrl": "https://lh3.googleusercontent.com/a/default-user=s64",
      "userId": "13641806021709480975"
     },
     "user_tz": -330
    },
    "id": "pgKkTG9IOTQo",
    "outputId": "0e3d927b-8758-41bf-bc99-a9b62253c5ba"
   },
   "outputs": [
    {
     "data": {
      "text/plain": [
       "numpy.float64"
      ]
     },
     "execution_count": 22,
     "metadata": {},
     "output_type": "execute_result"
    }
   ],
   "source": [
    "type(df['Amount(USD)'][0])"
   ]
  },
  {
   "cell_type": "markdown",
   "metadata": {
    "id": "OpA3bWYKqwBk"
   },
   "source": [
    "Grouping Industries"
   ]
  },
  {
   "cell_type": "code",
   "execution_count": 23,
   "metadata": {
    "executionInfo": {
     "elapsed": 103,
     "status": "ok",
     "timestamp": 1642528825214,
     "user": {
      "displayName": "Sneha Kulkarni",
      "photoUrl": "https://lh3.googleusercontent.com/a/default-user=s64",
      "userId": "13641806021709480975"
     },
     "user_tz": -330
    },
    "id": "P6qssaRJP3zF"
   },
   "outputs": [],
   "source": [
    "df['Industry']=df['Industry'].replace(['food and beverage','food & beverages','food & beverage','food and beverages','foodtech','fusion beverages','food-tech','food','food tech','b2b-focused foodtech startup','cafe','food production','dairy startup','food delivery','dairy tech'],'Food delivery/industry')\n",
    "df['Industry']=df['Industry'].replace(['financial services','finance','fin-tech' ,'fintech','fiinance', 'financial tech','accounting', 'investment', 'finance company','rural fintech','rural fintech','digital reconcilation and financial services'],'financial services')\n",
    "df['Industry']=df['Industry'].replace(['edtech', 'edutech', 'education', 'e-tech', 'online education','deep-tech','clean-tech','ed-tech'],'education')\n",
    "df['Industry']=df['Industry'].replace(['travel tech', 'travel and tourism', 'transportation','transport', 'last mile transportation'],'transportation')\n",
    "df['Industry']=df['Industry'].replace(['gaming and entertainment', 'online gaming','ott player', 'video customer experience(cx) platform', 'video games', 'gaming'],'gaming/entertainment')\n",
    "df['Industry']=df['Industry'].replace(['e-commerce','ecommerce','commerce and shopping','ecommece'],'e-commerce')\n",
    "df['Industry']=df['Industry'].replace(['healthcare','health','hospitality','health and wellness', 'health care','healthtech'],'health')\n",
    "df['Industry']=df['Industry'].replace(['ai startup','ai','ai company','conversational ai platform','deep tech ai','artificial intelligence','saas','ai'],'ai')\n",
    "df['Industry']=df['Industry'].replace(['agtech','agritech','agriculture','agriculture'],'agriculture')\n",
    "df['Industry']=df['Industry'].replace(['consumer internet','consumer interne','consumer appliances','consumer technology','consumer portal','customer service','customer service platform','services','consumer technology','consumer goods'],'customer services')\n",
    "df['Industry']=df['Industry'].replace(['software company' , 'information technology and services', 'information technology', 'it','tech','technology provider','digital solutions','technology','hr tech'],'it')\n",
    "df['Industry']=df['Industry'].replace(['iot startup','saas platform', 'saas startup','iot','co-working spaces','co-working startup','blockchain startup'],'tech startup')\n",
    "df['Industry']=df['Industry'].replace(['social media','marketplace','online marketplace','content management','media', 'digital media','b2b','b2b platform','b2b marketing', 'advertising','marketing','video','social network'],'social media')\n",
    "df['Industry']=df['Industry'].replace(['aerospace','airfare marketplace', 'automotive rental','auto','automotive','automation','automobile'],'automobile')\n",
    "df['Industry']=df['Industry'].replace(['fashion','personal care','fashion and apparel','luxury label','personal care','lifestyle'],'fashion')\n",
    "df['Industry']=df['Industry'].replace(['logistics solution provider','supply chain', 'logistics tech','hyper-local logistics'],'logistics')\n",
    "df['Industry']=df['Industry'].replace(['nanotechnology','enterprise software','services platform','waste management service','energy','block chain, cryptocurrency','block chain','blockchain','cryptocurrency','biotech','industrial robotics','water purification','intelligent marketing cloud'],'other technologies')\n",
    "df['Industry']=df['Industry'].replace(['nbfc','compliance','utility solutions provider','advertising, marketing','legaltech','other','professional network for women','fmcg','publishing','crowdsorcing','marketing company','bfsi','retail'],'others')\n",
    "df['Industry']=df['Industry'].replace(['reality','real estate'],'real estate')\n",
    "df['Industry']=df['Industry'].replace(['human resources','inspiration','storytelling','crowdsourcing'],'inspiration')"
   ]
  },
  {
   "cell_type": "code",
   "execution_count": 24,
   "metadata": {
    "colab": {
     "base_uri": "https://localhost:8080/"
    },
    "executionInfo": {
     "elapsed": 103,
     "status": "ok",
     "timestamp": 1642528825215,
     "user": {
      "displayName": "Sneha Kulkarni",
      "photoUrl": "https://lh3.googleusercontent.com/a/default-user=s64",
      "userId": "13641806021709480975"
     },
     "user_tz": -330
    },
    "id": "bmr0bDxEOYMM",
    "outputId": "2a4cb2d7-65c4-4267-eda5-aed85c67e7c5"
   },
   "outputs": [
    {
     "data": {
      "text/plain": [
       "20"
      ]
     },
     "execution_count": 24,
     "metadata": {},
     "output_type": "execute_result"
    }
   ],
   "source": [
    "df['Industry'].nunique()"
   ]
  },
  {
   "cell_type": "markdown",
   "metadata": {
    "id": "DckDuaG6MR_r"
   },
   "source": [
    "**Amount allocated to startups with respect to the years**"
   ]
  },
  {
   "cell_type": "code",
   "execution_count": 25,
   "metadata": {
    "colab": {
     "base_uri": "https://localhost:8080/"
    },
    "executionInfo": {
     "elapsed": 99,
     "status": "ok",
     "timestamp": 1642528825216,
     "user": {
      "displayName": "Sneha Kulkarni",
      "photoUrl": "https://lh3.googleusercontent.com/a/default-user=s64",
      "userId": "13641806021709480975"
     },
     "user_tz": -330
    },
    "id": "WdmpuRbQM7T-",
    "outputId": "de21c509-7d06-4f85-d144-6a6e28e581f5"
   },
   "outputs": [
    {
     "data": {
      "text/plain": [
       "Index(['Startup Name', 'Industry', 'Investors', 'Investment Type', 'Location',\n",
       "       'Amount(USD)', 'day', 'month', 'year'],\n",
       "      dtype='object')"
      ]
     },
     "execution_count": 25,
     "metadata": {},
     "output_type": "execute_result"
    }
   ],
   "source": [
    "df.columns"
   ]
  },
  {
   "cell_type": "code",
   "execution_count": 26,
   "metadata": {
    "colab": {
     "base_uri": "https://localhost:8080/"
    },
    "executionInfo": {
     "elapsed": 96,
     "status": "ok",
     "timestamp": 1642528825217,
     "user": {
      "displayName": "Sneha Kulkarni",
      "photoUrl": "https://lh3.googleusercontent.com/a/default-user=s64",
      "userId": "13641806021709480975"
     },
     "user_tz": -330
    },
    "id": "kYP-cM3TOcms",
    "outputId": "25432ea1-5380-45ad-b656-756867ca7d56"
   },
   "outputs": [
    {
     "name": "stdout",
     "output_type": "stream",
     "text": [
      "['8.47B', '1.66B', '4.48B', '9.09B', '3.25B']\n"
     ]
    }
   ],
   "source": [
    "amount=list(df.groupby(df['year']).sum()['Amount(USD)'])\n",
    "def currency_inword(x):\n",
    "    if(len(str(int(np.round(x))))>9):\n",
    "        return str(x)[0]+'.'+str(x)[1:3]+'B'\n",
    "    elif(len(str(int(np.round(x))))==9):\n",
    "        return str(x)[0:3]+'M'\n",
    "curr=[]\n",
    "for i in range(len(amount)):\n",
    "    curr.append(currency_inword(amount[i]))\n",
    "\n",
    "print(curr)"
   ]
  },
  {
   "cell_type": "code",
   "execution_count": 27,
   "metadata": {
    "colab": {
     "base_uri": "https://localhost:8080/",
     "height": 501
    },
    "executionInfo": {
     "elapsed": 2221,
     "status": "ok",
     "timestamp": 1642528827347,
     "user": {
      "displayName": "Sneha Kulkarni",
      "photoUrl": "https://lh3.googleusercontent.com/a/default-user=s64",
      "userId": "13641806021709480975"
     },
     "user_tz": -330
    },
    "id": "WgTE9u5YmYgs",
    "outputId": "72837ab0-eedf-4072-9049-2d36971ec83c"
   },
   "outputs": [
    {
     "name": "stdout",
     "output_type": "stream",
     "text": [
      "[8.47, 1.66, 4.48, 9.09, 3.25]\n"
     ]
    },
    {
     "data": {
      "image/png": "[encoded data removed]",
      "text/plain": [
       "<Figure size 1152x576 with 1 Axes>"
      ]
     },
     "metadata": {
      "needs_background": "light"
     },
     "output_type": "display_data"
    }
   ],
   "source": [
    "values=[]\n",
    "values = curr\n",
    "\n",
    "year_val=list(df['year'].value_counts().index.sort_values())\n",
    "print\n",
    "\n",
    "curr_list = []\n",
    "for number in curr:\n",
    "  number = number[:4]\n",
    "  curr_list.append(number)\n",
    "  \n",
    "\n",
    "#converting to float\n",
    "for i in range(0, len(curr_list)):\n",
    "    curr_list[i] = float(curr_list[i])\n",
    "\n",
    "print(curr_list)\n",
    "x = year_val\n",
    "y = curr_list\n",
    "\n",
    "plt.figure(figsize=(16,8))\n",
    "plt.plot(x, y, color='red', linestyle='solid', linewidth = 2, marker='o', markerfacecolor='red', markersize=5)\n",
    "plt.show()"
   ]
  },
  {
   "cell_type": "markdown",
   "metadata": {
    "id": "1tzHJjvLlswP"
   },
   "source": [
    "Maximum number of startups were funded in 2019 followed by 2016.\n",
    "\n",
    "The least number of startups was in 2017 which then saw a gradual\n",
    "increase in the number of startups."
   ]
  },
  {
   "cell_type": "markdown",
   "metadata": {
    "id": "VPmvbqU0TKqa"
   },
   "source": [
    "**Industry Vs Number of Startups**"
   ]
  },
  {
   "cell_type": "markdown",
   "metadata": {
    "id": "Qbh3EhMzrCpr"
   },
   "source": [
    "Graph between the top 10 industries and the total number of startups from 2016 to 2020"
   ]
  },
  {
   "cell_type": "code",
   "execution_count": 28,
   "metadata": {
    "colab": {
     "base_uri": "https://localhost:8080/",
     "height": 460
    },
    "executionInfo": {
     "elapsed": 124,
     "status": "ok",
     "timestamp": 1642528827349,
     "user": {
      "displayName": "Sneha Kulkarni",
      "photoUrl": "https://lh3.googleusercontent.com/a/default-user=s64",
      "userId": "13641806021709480975"
     },
     "user_tz": -330
    },
    "id": "r2OWVrVzTG-M",
    "outputId": "031f294b-41e1-4abd-88a0-2404b396ad57"
   },
   "outputs": [
    {
     "data": {
      "image/png": "[encoded data removed]",
      "text/plain": [
       "<Figure size 1080x864 with 1 Axes>"
      ]
     },
     "metadata": {
      "needs_background": "light"
     },
     "output_type": "display_data"
    }
   ],
   "source": [
    "industry = df['Industry'].value_counts()\n",
    "plt.figure(figsize=(15,12))\n",
    "plt.subplot(221)\n",
    "g = sns.barplot(x=industry.index[:10],y=industry.values[:10])\n",
    "g.set_xticklabels(g.get_xticklabels(),rotation=45)\n",
    "g.set_xlabel(\"Industry\", fontsize=15)\n",
    "g.set_ylabel(\"Number of Startups\", fontsize=15)\n",
    "g.set_title('Industry vs Number of Startups', fontsize=20)\n",
    "plt.show()"
   ]
  },
  {
   "cell_type": "markdown",
   "metadata": {
    "id": "lyP1j1lrkLRw"
   },
   "source": [
    "Consumer Internet and Technology industries are in high demand by Investors.\n",
    "Their future is good.\n",
    "If one want to start a new startup then they should start in these industries.\n",
    "It's good to see Education industry in top 10"
   ]
  },
  {
   "cell_type": "markdown",
   "metadata": {
    "id": "56pVFdTVkYq9"
   },
   "source": [
    "**Top 10 Cities with maximum number of startups**"
   ]
  },
  {
   "cell_type": "code",
   "execution_count": 29,
   "metadata": {
    "colab": {
     "base_uri": "https://localhost:8080/",
     "height": 424
    },
    "executionInfo": {
     "elapsed": 118,
     "status": "ok",
     "timestamp": 1642528827351,
     "user": {
      "displayName": "Sneha Kulkarni",
      "photoUrl": "https://lh3.googleusercontent.com/a/default-user=s64",
      "userId": "13641806021709480975"
     },
     "user_tz": -330
    },
    "id": "EeX9MWmAUzHI",
    "outputId": "e74e163b-d798-4017-9476-38f60a6a2214"
   },
   "outputs": [
    {
     "data": {
      "image/png": "[encoded data removed]",
      "text/plain": [
       "<Figure size 1080x864 with 1 Axes>"
      ]
     },
     "metadata": {
      "needs_background": "light"
     },
     "output_type": "display_data"
    }
   ],
   "source": [
    "city=df['Location'].value_counts()\n",
    "plt.figure(figsize=(15,12))\n",
    "plt.subplot(221)\n",
    "g = sns.barplot(x=city.index[:10],y=city.values[:10])\n",
    "g.set_xticklabels(g.get_xticklabels(),rotation=45)\n",
    "g.set_xlabel(\"Cities\", fontsize=15)\n",
    "g.set_ylabel(\"No of Startups\", fontsize=15)\n",
    "g.set_title('Cities vs Number of Startups',fontsize=20)\n",
    "plt.show()"
   ]
  },
  {
   "cell_type": "markdown",
   "metadata": {
    "id": "WMbOdJZalW89"
   },
   "source": [
    "Maximum number of startups were founded in Bengaluru followed by Mumbai, Delhi, Gurugram and Pune. The reasons for Bengalurur being the startup capital of India can be attributed to it being the technical hub with almost every MNC being located there."
   ]
  },
  {
   "cell_type": "markdown",
   "metadata": {
    "id": "D3xMhKFBmBse"
   },
   "source": [
    "**Fund received for each industry**"
   ]
  },
  {
   "cell_type": "code",
   "execution_count": 30,
   "metadata": {
    "colab": {
     "base_uri": "https://localhost:8080/"
    },
    "executionInfo": {
     "elapsed": 119,
     "status": "ok",
     "timestamp": 1642528827356,
     "user": {
      "displayName": "Sneha Kulkarni",
      "photoUrl": "https://lh3.googleusercontent.com/a/default-user=s64",
      "userId": "13641806021709480975"
     },
     "user_tz": -330
    },
    "id": "-2SwwX0EWjIe",
    "outputId": "458a1ccb-925d-4cc6-b2a9-1b3990b67411"
   },
   "outputs": [
    {
     "name": "stdout",
     "output_type": "stream",
     "text": [
      "[10885280434.0, 3160582105.0, 24229030325.0, 5353104206.0, 3903934430.0, 559592800.0, 1488695829.07, 2014181647.0, 2574867000.0, 67000000.0, 368200000.0, 11200000.0, 20801047.92, 193100000.0, 1110983275.0, 81900000.0, 11616298394.0, 3254948600.0, 284883806.0, 76910000.0]\n"
     ]
    }
   ],
   "source": [
    "industries=df.groupby('Industry')\n",
    "each_industry_fund=[]\n",
    "count_of_ind=df.Industry.unique()\n",
    "for i in count_of_ind:\n",
    "  ind=industries.get_group(i)\n",
    "  sum=0\n",
    "  for j in ind['Amount(USD)']:\n",
    "    #j=j.replace(',','')\n",
    "    sum=sum+float(j)\n",
    "  each_industry_fund.append(sum)\n",
    "print(each_industry_fund)"
   ]
  },
  {
   "cell_type": "code",
   "execution_count": 31,
   "metadata": {
    "colab": {
     "base_uri": "https://localhost:8080/",
     "height": 642
    },
    "executionInfo": {
     "elapsed": 111,
     "status": "ok",
     "timestamp": 1642528827357,
     "user": {
      "displayName": "Sneha Kulkarni",
      "photoUrl": "https://lh3.googleusercontent.com/a/default-user=s64",
      "userId": "13641806021709480975"
     },
     "user_tz": -330
    },
    "id": "JI2MaZ8HWvve",
    "outputId": "feeae479-e01b-44a0-d670-d7b26386f693"
   },
   "outputs": [
    {
     "data": {
      "text/plain": [
       "Text(0.5, 1.0, 'Total fund received for each industry')"
      ]
     },
     "execution_count": 31,
     "metadata": {},
     "output_type": "execute_result"
    },
    {
     "data": {
      "image/png": "[encoded data removed]",
      "text/plain": [
       "<Figure size 576x576 with 1 Axes>"
      ]
     },
     "metadata": {
      "needs_background": "light"
     },
     "output_type": "display_data"
    }
   ],
   "source": [
    "data = pd.DataFrame({'total fund received for every industry': each_industry_fund,\n",
    "                   'industry': count_of_ind }, index=count_of_ind)\n",
    "\n",
    "# plt.plot(ax)\n",
    "g=data.head(10).plot.bar(figsize=(8,8))\n",
    "g.set_ylabel('Amount in Billions (USD)',fontsize=15)\n",
    "g.set_xlabel('Industry',fontsize=15)\n",
    "g.set_title('Total fund received for each industry',fontsize=20)\n"
   ]
  },
  {
   "cell_type": "markdown",
   "metadata": {
    "id": "qa6fZicRl6WM"
   },
   "source": [
    "The highest amount in billions was invested in e-commerce and\n",
    "secondly on transportation. The other industries which had\n",
    "good investments were financial services, IT, education, food\n",
    "and services and logistics"
   ]
  },
  {
   "cell_type": "markdown",
   "metadata": {
    "id": "mqDmChe7rA6E"
   },
   "source": [
    "**Percentage distribution of startups based on location**"
   ]
  },
  {
   "cell_type": "code",
   "execution_count": 32,
   "metadata": {
    "colab": {
     "base_uri": "https://localhost:8080/"
    },
    "executionInfo": {
     "elapsed": 101,
     "status": "ok",
     "timestamp": 1642528827359,
     "user": {
      "displayName": "Sneha Kulkarni",
      "photoUrl": "https://lh3.googleusercontent.com/a/default-user=s64",
      "userId": "13641806021709480975"
     },
     "user_tz": -330
    },
    "id": "qQw9SNscY7x3",
    "outputId": "b11f6d9f-4278-465d-96e7-7ed7da381315"
   },
   "outputs": [
    {
     "data": {
      "text/plain": [
       "bangalore    31.584640\n",
       "mumbai       19.388859\n",
       "new delhi    15.657112\n",
       "gurgaon       9.897242\n",
       "pune          4.299621\n",
       "noida         3.677664\n",
       "hyderabad     3.569497\n",
       "chennai       3.272039\n",
       "gurugram      1.730665\n",
       "ahmedabad     1.514332\n",
       "Name: Location, dtype: float64"
      ]
     },
     "execution_count": 32,
     "metadata": {},
     "output_type": "execute_result"
    }
   ],
   "source": [
    "freq_loc=df['Location'].value_counts().head(10)\n",
    "freq_loc\n",
    "percent=freq_loc/df.shape[0] * 100\n",
    "percent"
   ]
  },
  {
   "cell_type": "markdown",
   "metadata": {
    "id": "5MBdxxx1Xd_l"
   },
   "source": [
    "Bangalore has almost 31% of the country's startups, followed by Mumbai with 19% and New Delhi with 15%. "
   ]
  },
  {
   "cell_type": "markdown",
   "metadata": {
    "id": "jR6_tGTdrMaZ"
   },
   "source": [
    "**Investment type vs number of startups**"
   ]
  },
  {
   "cell_type": "code",
   "execution_count": 33,
   "metadata": {
    "colab": {
     "base_uri": "https://localhost:8080/",
     "height": 825
    },
    "executionInfo": {
     "elapsed": 97,
     "status": "ok",
     "timestamp": 1642528827361,
     "user": {
      "displayName": "Sneha Kulkarni",
      "photoUrl": "https://lh3.googleusercontent.com/a/default-user=s64",
      "userId": "13641806021709480975"
     },
     "user_tz": -330
    },
    "id": "2Sp79fVYZUkS",
    "outputId": "73951b26-1ee4-4687-8c72-d1a4e8231dcb"
   },
   "outputs": [
    {
     "name": "stdout",
     "output_type": "stream",
     "text": [
      "seed              1880\n",
      "private equity    1559\n",
      "series a            73\n",
      "series b            41\n",
      "debt                39\n",
      "series c            30\n",
      "series d            20\n",
      "venture             15\n",
      "others              12\n",
      "series f             9\n",
      "series e             8\n",
      "pre-seed             5\n",
      "series g             4\n",
      "series h             2\n",
      "series j             1\n",
      "Name: Investment Type, dtype: int64\n"
     ]
    },
    {
     "data": {
      "image/png": "[encoded data removed]",
      "text/plain": [
       "<Figure size 1440x1152 with 1 Axes>"
      ]
     },
     "metadata": {
      "needs_background": "light"
     },
     "output_type": "display_data"
    }
   ],
   "source": [
    "i_type=df['Investment Type'].value_counts()\n",
    "plt.figure(figsize=(20,16))\n",
    "plt.subplot(221)\n",
    "print(i_type)\n",
    "g = sns.barplot(x=i_type.index[:10],y=i_type.values[:10])\n",
    "g.set_xticklabels(g.get_xticklabels(),rotation=45)\n",
    "g.set_xlabel(\"Type of Investment\", fontsize=15)\n",
    "g.set_ylabel(\"Number of Startups\", fontsize=15)\n",
    "g.set_title('Investment type vs Number of Startups',fontsize=20)\n",
    "plt.show()"
   ]
  },
  {
   "cell_type": "markdown",
   "metadata": {
    "id": "Xo0FmM6cmWdH"
   },
   "source": [
    "Seed Funding was the major contributor in the startup ecosystem with respect to the number of startups funded followed by Private Equity, Series A, Series B and Debt."
   ]
  },
  {
   "cell_type": "markdown",
   "metadata": {
    "id": "7geYF412bD8I"
   },
   "source": [
    "**Hypothesis Testing**"
   ]
  },
  {
   "cell_type": "markdown",
   "metadata": {
    "id": "-RdjNDdrX1ym"
   },
   "source": [
    "Hypothesis testing is a form of statistical inference that uses data from a sample to draw conclusions about a population parameter or a population probability distribution.\n",
    "Since our parameters are categorical, we have to choose a non-parametric test i.e. Chi-square test.\n",
    "\n",
    "Chi square test:\n",
    "\n",
    "A chi-square statistic is one way to show a relationship between two categorical variables. The chi-squared statistic is a single number that tells you how much difference exists between your observed counts and the counts you would expect if there were no relationship at all in the population.\n"
   ]
  },
  {
   "cell_type": "markdown",
   "metadata": {
    "id": "4gsmmhhqbI9G"
   },
   "source": [
    "**Chi-Square Test**"
   ]
  },
  {
   "cell_type": "code",
   "execution_count": 34,
   "metadata": {
    "colab": {
     "base_uri": "https://localhost:8080/"
    },
    "executionInfo": {
     "elapsed": 88,
     "status": "ok",
     "timestamp": 1642528827362,
     "user": {
      "displayName": "Sneha Kulkarni",
      "photoUrl": "https://lh3.googleusercontent.com/a/default-user=s64",
      "userId": "13641806021709480975"
     },
     "user_tz": -330
    },
    "id": "0YUU7Nvdmd6g",
    "outputId": "b624a3aa-0120-45ae-b431-78b410df6d83"
   },
   "outputs": [
    {
     "name": "stdout",
     "output_type": "stream",
     "text": [
      "Index(['bangalore', 'mumbai', 'new delhi', 'gurgaon', 'pune', 'noida',\n",
      "       'hyderabad', 'chennai', 'gurugram', 'ahmedabad'],\n",
      "      dtype='object')\n"
     ]
    }
   ],
   "source": [
    "m=df['Location'].value_counts().head(10)\n",
    "locations=m.keys()\n",
    "print(locations)"
   ]
  },
  {
   "cell_type": "code",
   "execution_count": 35,
   "metadata": {
    "colab": {
     "base_uri": "https://localhost:8080/"
    },
    "executionInfo": {
     "elapsed": 83,
     "status": "ok",
     "timestamp": 1642528827363,
     "user": {
      "displayName": "Sneha Kulkarni",
      "photoUrl": "https://lh3.googleusercontent.com/a/default-user=s64",
      "userId": "13641806021709480975"
     },
     "user_tz": -330
    },
    "id": "TDD21_SkMqRs",
    "outputId": "b0beef4c-a0aa-4435-b2bf-4ec7852adcd3"
   },
   "outputs": [
    {
     "name": "stdout",
     "output_type": "stream",
     "text": [
      "for year 2020 :\n",
      " \n",
      "bangalore = 79\n",
      "mumbai = 35\n",
      "new delhi = 14\n",
      "gurgaon = 21\n",
      "pune = 9\n",
      "noida = 8\n",
      "hyderabad = 3\n",
      "chennai = 6\n",
      "gurugram = 13\n",
      "ahmedabad = 3\n",
      " \n",
      "for year 2019 :\n",
      " \n",
      "bangalore = 38\n",
      "mumbai = 17\n",
      "new delhi = 11\n",
      "gurgaon = 16\n",
      "pune = 4\n",
      "noida = 4\n",
      "hyderabad = 4\n",
      "chennai = 2\n",
      "gurugram = 4\n",
      "ahmedabad = 0\n",
      " \n",
      "for year 2018 :\n",
      " \n",
      "bangalore = 98\n",
      "mumbai = 57\n",
      "new delhi = 21\n",
      "gurgaon = 4\n",
      "pune = 11\n",
      "noida = 7\n",
      "hyderabad = 10\n",
      "chennai = 16\n",
      "gurugram = 47\n",
      "ahmedabad = 3\n",
      " \n",
      "for year 2017 :\n",
      " \n",
      "bangalore = 371\n",
      "mumbai = 233\n",
      "new delhi = 166\n",
      "gurgaon = 118\n",
      "pune = 45\n",
      "noida = 36\n",
      "hyderabad = 56\n",
      "chennai = 35\n",
      "gurugram = 0\n",
      "ahmedabad = 15\n",
      " \n",
      "for year 2016 :\n",
      " \n",
      "bangalore = 582\n",
      "mumbai = 375\n",
      "new delhi = 367\n",
      "gurgaon = 207\n",
      "pune = 90\n",
      "noida = 81\n",
      "hyderabad = 59\n",
      "chennai = 62\n",
      "gurugram = 0\n",
      "ahmedabad = 35\n",
      " \n"
     ]
    }
   ],
   "source": [
    "from scipy.stats import chi2_contingency\n",
    "years=(df.year.unique())[::-1]\n",
    "data =[]\n",
    "yr=df.groupby('year')\n",
    "\n",
    "total_startups_each_yr=[]\n",
    "\n",
    "for i in years:\n",
    "  sum=0\n",
    "  Location_count=[]\n",
    "  yrdata=yr.get_group(i)\n",
    "  x=yrdata['Location'].value_counts()\n",
    "  print('for year',i,':')\n",
    "  print(' ')\n",
    "  for j in locations:\n",
    "    if(j not in x):\n",
    "      x[j]=0\n",
    "    Location_count.append(x[j])\n",
    "    print(j,'=',x[j])\n",
    "  print(' ')\n",
    "  for i in Location_count:\n",
    "    sum+=i\n",
    "  total_startups_each_yr.append(sum)\n",
    "  data.append(Location_count)"
   ]
  },
  {
   "cell_type": "markdown",
   "metadata": {
    "id": "z6fexEARX-mQ"
   },
   "source": [
    "A comparison has been made between fund received and the location of the startup.\n",
    "The null hypothesis is rejected, which means the fund received may be dependent on the location of the startup.\n",
    "\n"
   ]
  },
  {
   "cell_type": "code",
   "execution_count": 36,
   "metadata": {
    "colab": {
     "base_uri": "https://localhost:8080/",
     "height": 206
    },
    "executionInfo": {
     "elapsed": 77,
     "status": "ok",
     "timestamp": 1642528827365,
     "user": {
      "displayName": "Sneha Kulkarni",
      "photoUrl": "https://lh3.googleusercontent.com/a/default-user=s64",
      "userId": "13641806021709480975"
     },
     "user_tz": -330
    },
    "id": "eFUFLTbbUXuz",
    "outputId": "4bcd23c1-c8d5-4bcf-86b2-b34cdba11038"
   },
   "outputs": [
    {
     "data": {
      "text/html": [
       "\n",
       "  <div id=\"df-15224861-fc3c-4ecb-ad1f-fe1b4f19cc42\">\n",
       "    <div class=\"colab-df-container\">\n",
       "      <div>\n",
       "<style scoped>\n",
       "    .dataframe tbody tr th:only-of-type {\n",
       "        vertical-align: middle;\n",
       "    }\n",
       "\n",
       "    .dataframe tbody tr th {\n",
       "        vertical-align: top;\n",
       "    }\n",
       "\n",
       "    .dataframe thead th {\n",
       "        text-align: right;\n",
       "    }\n",
       "</style>\n",
       "<table border=\"1\" class=\"dataframe\">\n",
       "  <thead>\n",
       "    <tr style=\"text-align: right;\">\n",
       "      <th></th>\n",
       "      <th>Startup Name</th>\n",
       "      <th>Industry</th>\n",
       "      <th>Investors</th>\n",
       "      <th>Investment Type</th>\n",
       "      <th>Location</th>\n",
       "      <th>Amount(USD)</th>\n",
       "      <th>day</th>\n",
       "      <th>month</th>\n",
       "      <th>year</th>\n",
       "    </tr>\n",
       "  </thead>\n",
       "  <tbody>\n",
       "    <tr>\n",
       "      <th>0</th>\n",
       "      <td>imedilane</td>\n",
       "      <td>customer services</td>\n",
       "      <td>mahendra patel, nilender chauhan</td>\n",
       "      <td>seed</td>\n",
       "      <td>new delhi</td>\n",
       "      <td>40000.0</td>\n",
       "      <td>08</td>\n",
       "      <td>04</td>\n",
       "      <td>2016</td>\n",
       "    </tr>\n",
       "    <tr>\n",
       "      <th>1</th>\n",
       "      <td>little black book</td>\n",
       "      <td>customer services</td>\n",
       "      <td>idg, indian angel network</td>\n",
       "      <td>seed</td>\n",
       "      <td>new delhi</td>\n",
       "      <td>1000000.0</td>\n",
       "      <td>08</td>\n",
       "      <td>04</td>\n",
       "      <td>2016</td>\n",
       "    </tr>\n",
       "    <tr>\n",
       "      <th>2</th>\n",
       "      <td>vahan</td>\n",
       "      <td>education</td>\n",
       "      <td>villgro</td>\n",
       "      <td>seed</td>\n",
       "      <td>chennai</td>\n",
       "      <td>1000000.0</td>\n",
       "      <td>08</td>\n",
       "      <td>04</td>\n",
       "      <td>2016</td>\n",
       "    </tr>\n",
       "    <tr>\n",
       "      <th>3</th>\n",
       "      <td>little black book</td>\n",
       "      <td>customer services</td>\n",
       "      <td>idg, indian angel network</td>\n",
       "      <td>seed</td>\n",
       "      <td>new delhi</td>\n",
       "      <td>1000000.0</td>\n",
       "      <td>08</td>\n",
       "      <td>04</td>\n",
       "      <td>2016</td>\n",
       "    </tr>\n",
       "    <tr>\n",
       "      <th>4</th>\n",
       "      <td>vahan</td>\n",
       "      <td>education</td>\n",
       "      <td>villgro</td>\n",
       "      <td>seed</td>\n",
       "      <td>chennai</td>\n",
       "      <td>1000000.0</td>\n",
       "      <td>08</td>\n",
       "      <td>04</td>\n",
       "      <td>2016</td>\n",
       "    </tr>\n",
       "  </tbody>\n",
       "</table>\n",
       "</div>\n",
       "      <button class=\"colab-df-convert\" onclick=\"convertToInteractive('df-15224861-fc3c-4ecb-ad1f-fe1b4f19cc42')\"\n",
       "              title=\"Convert this dataframe to an interactive table.\"\n",
       "              style=\"display:none;\">\n",
       "        \n",
       "  <svg xmlns=\"http://www.w3.org/2000/svg\" height=\"24px\"viewBox=\"0 0 24 24\"\n",
       "       width=\"24px\">\n",
       "    <path d=\"M0 0h24v24H0V0z\" fill=\"none\"/>\n",
       "    <path d=\"M18.56 5.44l.94 2.06.94-2.06 2.06-.94-2.06-.94-.94-2.06-.94 2.06-2.06.94zm-11 1L8.5 8.5l.94-2.06 2.06-.94-2.06-.94L8.5 2.5l-.94 2.06-2.06.94zm10 10l.94 2.06.94-2.06 2.06-.94-2.06-.94-.94-2.06-.94 2.06-2.06.94z\"/><path d=\"M17.41 7.96l-1.37-1.37c-.4-.4-.92-.59-1.43-.59-.52 0-1.04.2-1.43.59L10.3 9.45l-7.72 7.72c-.78.78-.78 2.05 0 2.83L4 21.41c.39.39.9.59 1.41.59.51 0 1.02-.2 1.41-.59l7.78-7.78 2.81-2.81c.8-.78.8-2.07 0-2.86zM5.41 20L4 18.59l7.72-7.72 1.47 1.35L5.41 20z\"/>\n",
       "  </svg>\n",
       "      </button>\n",
       "      \n",
       "  <style>\n",
       "    .colab-df-container {\n",
       "      display:flex;\n",
       "      flex-wrap:wrap;\n",
       "      gap: 12px;\n",
       "    }\n",
       "\n",
       "    .colab-df-convert {\n",
       "      background-color: #E8F0FE;\n",
       "      border: none;\n",
       "      border-radius: 50%;\n",
       "      cursor: pointer;\n",
       "      display: none;\n",
       "      fill: #1967D2;\n",
       "      height: 32px;\n",
       "      padding: 0 0 0 0;\n",
       "      width: 32px;\n",
       "    }\n",
       "\n",
       "    .colab-df-convert:hover {\n",
       "      background-color: #E2EBFA;\n",
       "      box-shadow: 0px 1px 2px rgba(60, 64, 67, 0.3), 0px 1px 3px 1px rgba(60, 64, 67, 0.15);\n",
       "      fill: #174EA6;\n",
       "    }\n",
       "\n",
       "    [theme=dark] .colab-df-convert {\n",
       "      background-color: #3B4455;\n",
       "      fill: #D2E3FC;\n",
       "    }\n",
       "\n",
       "    [theme=dark] .colab-df-convert:hover {\n",
       "      background-color: #434B5C;\n",
       "      box-shadow: 0px 1px 3px 1px rgba(0, 0, 0, 0.15);\n",
       "      filter: drop-shadow(0px 1px 2px rgba(0, 0, 0, 0.3));\n",
       "      fill: #FFFFFF;\n",
       "    }\n",
       "  </style>\n",
       "\n",
       "      <script>\n",
       "        const buttonEl =\n",
       "          document.querySelector('#df-15224861-fc3c-4ecb-ad1f-fe1b4f19cc42 button.colab-df-convert');\n",
       "        buttonEl.style.display =\n",
       "          google.colab.kernel.accessAllowed ? 'block' : 'none';\n",
       "\n",
       "        async function convertToInteractive(key) {\n",
       "          const element = document.querySelector('#df-15224861-fc3c-4ecb-ad1f-fe1b4f19cc42');\n",
       "          const dataTable =\n",
       "            await google.colab.kernel.invokeFunction('convertToInteractive',\n",
       "                                                     [key], {});\n",
       "          if (!dataTable) return;\n",
       "\n",
       "          const docLinkHtml = 'Like what you see? Visit the ' +\n",
       "            '<a target=\"_blank\" href=https://colab.research.google.com/notebooks/data_table.ipynb>data table notebook</a>'\n",
       "            + ' to learn more about interactive tables.';\n",
       "          element.innerHTML = '';\n",
       "          dataTable['output_type'] = 'display_data';\n",
       "          await google.colab.output.renderOutput(dataTable, element);\n",
       "          const docLink = document.createElement('div');\n",
       "          docLink.innerHTML = docLinkHtml;\n",
       "          element.appendChild(docLink);\n",
       "        }\n",
       "      </script>\n",
       "    </div>\n",
       "  </div>\n",
       "  "
      ],
      "text/plain": [
       "        Startup Name           Industry  ... month  year\n",
       "0          imedilane  customer services  ...    04  2016\n",
       "1  little black book  customer services  ...    04  2016\n",
       "2              vahan          education  ...    04  2016\n",
       "3  little black book  customer services  ...    04  2016\n",
       "4              vahan          education  ...    04  2016\n",
       "\n",
       "[5 rows x 9 columns]"
      ]
     },
     "execution_count": 36,
     "metadata": {},
     "output_type": "execute_result"
    }
   ],
   "source": [
    "df.head()"
   ]
  },
  {
   "cell_type": "code",
   "execution_count": 37,
   "metadata": {
    "colab": {
     "base_uri": "https://localhost:8080/",
     "height": 206
    },
    "executionInfo": {
     "elapsed": 1872,
     "status": "ok",
     "timestamp": 1642528829164,
     "user": {
      "displayName": "Sneha Kulkarni",
      "photoUrl": "https://lh3.googleusercontent.com/a/default-user=s64",
      "userId": "13641806021709480975"
     },
     "user_tz": -330
    },
    "id": "3H43oJDjUFaE",
    "outputId": "f2921993-9709-4b24-d7ec-51f909ec4134"
   },
   "outputs": [
    {
     "data": {
      "text/html": [
       "\n",
       "  <div id=\"df-c1f7e772-989e-457b-917c-41efe6a2840b\">\n",
       "    <div class=\"colab-df-container\">\n",
       "      <div>\n",
       "<style scoped>\n",
       "    .dataframe tbody tr th:only-of-type {\n",
       "        vertical-align: middle;\n",
       "    }\n",
       "\n",
       "    .dataframe tbody tr th {\n",
       "        vertical-align: top;\n",
       "    }\n",
       "\n",
       "    .dataframe thead th {\n",
       "        text-align: right;\n",
       "    }\n",
       "</style>\n",
       "<table border=\"1\" class=\"dataframe\">\n",
       "  <thead>\n",
       "    <tr style=\"text-align: right;\">\n",
       "      <th></th>\n",
       "      <th>Amount(USD)</th>\n",
       "      <th>Location</th>\n",
       "      <th>Industry</th>\n",
       "    </tr>\n",
       "  </thead>\n",
       "  <tbody>\n",
       "    <tr>\n",
       "      <th>0</th>\n",
       "      <td>40000</td>\n",
       "      <td>new delhi</td>\n",
       "      <td>customer services</td>\n",
       "    </tr>\n",
       "    <tr>\n",
       "      <th>1</th>\n",
       "      <td>1e+06</td>\n",
       "      <td>new delhi</td>\n",
       "      <td>customer services</td>\n",
       "    </tr>\n",
       "    <tr>\n",
       "      <th>2</th>\n",
       "      <td>1e+06</td>\n",
       "      <td>chennai</td>\n",
       "      <td>education</td>\n",
       "    </tr>\n",
       "    <tr>\n",
       "      <th>3</th>\n",
       "      <td>1e+06</td>\n",
       "      <td>new delhi</td>\n",
       "      <td>customer services</td>\n",
       "    </tr>\n",
       "    <tr>\n",
       "      <th>4</th>\n",
       "      <td>1e+06</td>\n",
       "      <td>chennai</td>\n",
       "      <td>education</td>\n",
       "    </tr>\n",
       "  </tbody>\n",
       "</table>\n",
       "</div>\n",
       "      <button class=\"colab-df-convert\" onclick=\"convertToInteractive('df-c1f7e772-989e-457b-917c-41efe6a2840b')\"\n",
       "              title=\"Convert this dataframe to an interactive table.\"\n",
       "              style=\"display:none;\">\n",
       "        \n",
       "  <svg xmlns=\"http://www.w3.org/2000/svg\" height=\"24px\"viewBox=\"0 0 24 24\"\n",
       "       width=\"24px\">\n",
       "    <path d=\"M0 0h24v24H0V0z\" fill=\"none\"/>\n",
       "    <path d=\"M18.56 5.44l.94 2.06.94-2.06 2.06-.94-2.06-.94-.94-2.06-.94 2.06-2.06.94zm-11 1L8.5 8.5l.94-2.06 2.06-.94-2.06-.94L8.5 2.5l-.94 2.06-2.06.94zm10 10l.94 2.06.94-2.06 2.06-.94-2.06-.94-.94-2.06-.94 2.06-2.06.94z\"/><path d=\"M17.41 7.96l-1.37-1.37c-.4-.4-.92-.59-1.43-.59-.52 0-1.04.2-1.43.59L10.3 9.45l-7.72 7.72c-.78.78-.78 2.05 0 2.83L4 21.41c.39.39.9.59 1.41.59.51 0 1.02-.2 1.41-.59l7.78-7.78 2.81-2.81c.8-.78.8-2.07 0-2.86zM5.41 20L4 18.59l7.72-7.72 1.47 1.35L5.41 20z\"/>\n",
       "  </svg>\n",
       "      </button>\n",
       "      \n",
       "  <style>\n",
       "    .colab-df-container {\n",
       "      display:flex;\n",
       "      flex-wrap:wrap;\n",
       "      gap: 12px;\n",
       "    }\n",
       "\n",
       "    .colab-df-convert {\n",
       "      background-color: #E8F0FE;\n",
       "      border: none;\n",
       "      border-radius: 50%;\n",
       "      cursor: pointer;\n",
       "      display: none;\n",
       "      fill: #1967D2;\n",
       "      height: 32px;\n",
       "      padding: 0 0 0 0;\n",
       "      width: 32px;\n",
       "    }\n",
       "\n",
       "    .colab-df-convert:hover {\n",
       "      background-color: #E2EBFA;\n",
       "      box-shadow: 0px 1px 2px rgba(60, 64, 67, 0.3), 0px 1px 3px 1px rgba(60, 64, 67, 0.15);\n",
       "      fill: #174EA6;\n",
       "    }\n",
       "\n",
       "    [theme=dark] .colab-df-convert {\n",
       "      background-color: #3B4455;\n",
       "      fill: #D2E3FC;\n",
       "    }\n",
       "\n",
       "    [theme=dark] .colab-df-convert:hover {\n",
       "      background-color: #434B5C;\n",
       "      box-shadow: 0px 1px 3px 1px rgba(0, 0, 0, 0.15);\n",
       "      filter: drop-shadow(0px 1px 2px rgba(0, 0, 0, 0.3));\n",
       "      fill: #FFFFFF;\n",
       "    }\n",
       "  </style>\n",
       "\n",
       "      <script>\n",
       "        const buttonEl =\n",
       "          document.querySelector('#df-c1f7e772-989e-457b-917c-41efe6a2840b button.colab-df-convert');\n",
       "        buttonEl.style.display =\n",
       "          google.colab.kernel.accessAllowed ? 'block' : 'none';\n",
       "\n",
       "        async function convertToInteractive(key) {\n",
       "          const element = document.querySelector('#df-c1f7e772-989e-457b-917c-41efe6a2840b');\n",
       "          const dataTable =\n",
       "            await google.colab.kernel.invokeFunction('convertToInteractive',\n",
       "                                                     [key], {});\n",
       "          if (!dataTable) return;\n",
       "\n",
       "          const docLinkHtml = 'Like what you see? Visit the ' +\n",
       "            '<a target=\"_blank\" href=https://colab.research.google.com/notebooks/data_table.ipynb>data table notebook</a>'\n",
       "            + ' to learn more about interactive tables.';\n",
       "          element.innerHTML = '';\n",
       "          dataTable['output_type'] = 'display_data';\n",
       "          await google.colab.output.renderOutput(dataTable, element);\n",
       "          const docLink = document.createElement('div');\n",
       "          docLink.innerHTML = docLinkHtml;\n",
       "          element.appendChild(docLink);\n",
       "        }\n",
       "      </script>\n",
       "    </div>\n",
       "  </div>\n",
       "  "
      ],
      "text/plain": [
       "  Amount(USD)   Location           Industry\n",
       "0       40000  new delhi  customer services\n",
       "1       1e+06  new delhi  customer services\n",
       "2       1e+06    chennai          education\n",
       "3       1e+06  new delhi  customer services\n",
       "4       1e+06    chennai          education"
      ]
     },
     "execution_count": 37,
     "metadata": {},
     "output_type": "execute_result"
    }
   ],
   "source": [
    "data= pd.DataFrame([df['Amount(USD)'], df['Location'], df['Industry']]).transpose()\n",
    "data.head()"
   ]
  },
  {
   "cell_type": "markdown",
   "metadata": {
    "id": "QjxiYoP0g1IQ"
   },
   "source": [
    "# Naive Bayes"
   ]
  },
  {
   "cell_type": "markdown",
   "metadata": {
    "id": "_S3MgVsqYaBa"
   },
   "source": [
    "A classifier is a machine learning model that is used to discriminate different objects based on certain features. \n",
    "A Naive Bayes classifier is a probabilistic machine learning model that’s used for classification task. The crux of the classifier is based on the Bayes theorem."
   ]
  },
  {
   "cell_type": "code",
   "execution_count": 38,
   "metadata": {
    "colab": {
     "base_uri": "https://localhost:8080/",
     "height": 206
    },
    "executionInfo": {
     "elapsed": 49,
     "status": "ok",
     "timestamp": 1642528829167,
     "user": {
      "displayName": "Sneha Kulkarni",
      "photoUrl": "https://lh3.googleusercontent.com/a/default-user=s64",
      "userId": "13641806021709480975"
     },
     "user_tz": -330
    },
    "id": "3g_J2mfaZzlt",
    "outputId": "ae3724a7-a9a4-4bed-bf45-9b07ac672d0a"
   },
   "outputs": [
    {
     "data": {
      "text/html": [
       "\n",
       "  <div id=\"df-a062faa0-98f4-4439-b46c-f434efe0771f\">\n",
       "    <div class=\"colab-df-container\">\n",
       "      <div>\n",
       "<style scoped>\n",
       "    .dataframe tbody tr th:only-of-type {\n",
       "        vertical-align: middle;\n",
       "    }\n",
       "\n",
       "    .dataframe tbody tr th {\n",
       "        vertical-align: top;\n",
       "    }\n",
       "\n",
       "    .dataframe thead th {\n",
       "        text-align: right;\n",
       "    }\n",
       "</style>\n",
       "<table border=\"1\" class=\"dataframe\">\n",
       "  <thead>\n",
       "    <tr style=\"text-align: right;\">\n",
       "      <th></th>\n",
       "      <th>0</th>\n",
       "    </tr>\n",
       "  </thead>\n",
       "  <tbody>\n",
       "    <tr>\n",
       "      <th>0</th>\n",
       "      <td>seed</td>\n",
       "    </tr>\n",
       "    <tr>\n",
       "      <th>1</th>\n",
       "      <td>seed</td>\n",
       "    </tr>\n",
       "    <tr>\n",
       "      <th>2</th>\n",
       "      <td>seed</td>\n",
       "    </tr>\n",
       "    <tr>\n",
       "      <th>3</th>\n",
       "      <td>seed</td>\n",
       "    </tr>\n",
       "    <tr>\n",
       "      <th>4</th>\n",
       "      <td>seed</td>\n",
       "    </tr>\n",
       "  </tbody>\n",
       "</table>\n",
       "</div>\n",
       "      <button class=\"colab-df-convert\" onclick=\"convertToInteractive('df-a062faa0-98f4-4439-b46c-f434efe0771f')\"\n",
       "              title=\"Convert this dataframe to an interactive table.\"\n",
       "              style=\"display:none;\">\n",
       "        \n",
       "  <svg xmlns=\"http://www.w3.org/2000/svg\" height=\"24px\"viewBox=\"0 0 24 24\"\n",
       "       width=\"24px\">\n",
       "    <path d=\"M0 0h24v24H0V0z\" fill=\"none\"/>\n",
       "    <path d=\"M18.56 5.44l.94 2.06.94-2.06 2.06-.94-2.06-.94-.94-2.06-.94 2.06-2.06.94zm-11 1L8.5 8.5l.94-2.06 2.06-.94-2.06-.94L8.5 2.5l-.94 2.06-2.06.94zm10 10l.94 2.06.94-2.06 2.06-.94-2.06-.94-.94-2.06-.94 2.06-2.06.94z\"/><path d=\"M17.41 7.96l-1.37-1.37c-.4-.4-.92-.59-1.43-.59-.52 0-1.04.2-1.43.59L10.3 9.45l-7.72 7.72c-.78.78-.78 2.05 0 2.83L4 21.41c.39.39.9.59 1.41.59.51 0 1.02-.2 1.41-.59l7.78-7.78 2.81-2.81c.8-.78.8-2.07 0-2.86zM5.41 20L4 18.59l7.72-7.72 1.47 1.35L5.41 20z\"/>\n",
       "  </svg>\n",
       "      </button>\n",
       "      \n",
       "  <style>\n",
       "    .colab-df-container {\n",
       "      display:flex;\n",
       "      flex-wrap:wrap;\n",
       "      gap: 12px;\n",
       "    }\n",
       "\n",
       "    .colab-df-convert {\n",
       "      background-color: #E8F0FE;\n",
       "      border: none;\n",
       "      border-radius: 50%;\n",
       "      cursor: pointer;\n",
       "      display: none;\n",
       "      fill: #1967D2;\n",
       "      height: 32px;\n",
       "      padding: 0 0 0 0;\n",
       "      width: 32px;\n",
       "    }\n",
       "\n",
       "    .colab-df-convert:hover {\n",
       "      background-color: #E2EBFA;\n",
       "      box-shadow: 0px 1px 2px rgba(60, 64, 67, 0.3), 0px 1px 3px 1px rgba(60, 64, 67, 0.15);\n",
       "      fill: #174EA6;\n",
       "    }\n",
       "\n",
       "    [theme=dark] .colab-df-convert {\n",
       "      background-color: #3B4455;\n",
       "      fill: #D2E3FC;\n",
       "    }\n",
       "\n",
       "    [theme=dark] .colab-df-convert:hover {\n",
       "      background-color: #434B5C;\n",
       "      box-shadow: 0px 1px 3px 1px rgba(0, 0, 0, 0.15);\n",
       "      filter: drop-shadow(0px 1px 2px rgba(0, 0, 0, 0.3));\n",
       "      fill: #FFFFFF;\n",
       "    }\n",
       "  </style>\n",
       "\n",
       "      <script>\n",
       "        const buttonEl =\n",
       "          document.querySelector('#df-a062faa0-98f4-4439-b46c-f434efe0771f button.colab-df-convert');\n",
       "        buttonEl.style.display =\n",
       "          google.colab.kernel.accessAllowed ? 'block' : 'none';\n",
       "\n",
       "        async function convertToInteractive(key) {\n",
       "          const element = document.querySelector('#df-a062faa0-98f4-4439-b46c-f434efe0771f');\n",
       "          const dataTable =\n",
       "            await google.colab.kernel.invokeFunction('convertToInteractive',\n",
       "                                                     [key], {});\n",
       "          if (!dataTable) return;\n",
       "\n",
       "          const docLinkHtml = 'Like what you see? Visit the ' +\n",
       "            '<a target=\"_blank\" href=https://colab.research.google.com/notebooks/data_table.ipynb>data table notebook</a>'\n",
       "            + ' to learn more about interactive tables.';\n",
       "          element.innerHTML = '';\n",
       "          dataTable['output_type'] = 'display_data';\n",
       "          await google.colab.output.renderOutput(dataTable, element);\n",
       "          const docLink = document.createElement('div');\n",
       "          docLink.innerHTML = docLinkHtml;\n",
       "          element.appendChild(docLink);\n",
       "        }\n",
       "      </script>\n",
       "    </div>\n",
       "  </div>\n",
       "  "
      ],
      "text/plain": [
       "      0\n",
       "0  seed\n",
       "1  seed\n",
       "2  seed\n",
       "3  seed\n",
       "4  seed"
      ]
     },
     "execution_count": 38,
     "metadata": {},
     "output_type": "execute_result"
    }
   ],
   "source": [
    "data=pd.DataFrame([df['Investment Type'], df['Location'], df['Industry']]).transpose()\n",
    "X = data.iloc[:, [1, 2]].values\n",
    "y = data.iloc[:, 0].values\n",
    "X=pd.DataFrame(X)\n",
    "y=pd.DataFrame(y)\n",
    "X.head()\n",
    "y.head()"
   ]
  },
  {
   "cell_type": "code",
   "execution_count": 39,
   "metadata": {
    "colab": {
     "base_uri": "https://localhost:8080/"
    },
    "executionInfo": {
     "elapsed": 47,
     "status": "ok",
     "timestamp": 1642528829169,
     "user": {
      "displayName": "Sneha Kulkarni",
      "photoUrl": "https://lh3.googleusercontent.com/a/default-user=s64",
      "userId": "13641806021709480975"
     },
     "user_tz": -330
    },
    "id": "_tVh53hvTZUY",
    "outputId": "f97a90ec-b677-4c93-c405-4d463c582df7"
   },
   "outputs": [
    {
     "name": "stderr",
     "output_type": "stream",
     "text": [
      "/usr/local/lib/python3.7/dist-packages/statsmodels/tools/_testing.py:19: FutureWarning: pandas.util.testing is deprecated. Use the functions in the public API at pandas.testing instead.\n",
      "  import pandas.util.testing as tm\n",
      "/usr/local/lib/python3.7/dist-packages/sklearn/preprocessing/_label.py:115: DataConversionWarning: A column-vector y was passed when a 1d array was expected. Please change the shape of y to (n_samples, ), for example using ravel().\n",
      "  y = column_or_1d(y, warn=True)\n"
     ]
    }
   ],
   "source": [
    "from sklearn.naive_bayes import GaussianNB, CategoricalNB\n",
    "from sklearn.preprocessing import OrdinalEncoder, LabelEncoder\n",
    "from sklearn.metrics import recall_score,accuracy_score, precision_score, f1_score\n",
    "from sklearn.model_selection import train_test_split\n",
    "from statsmodels.stats.outliers_influence import variance_inflation_factor\n",
    "from collections import Counter\n",
    "\n",
    "encoder = OrdinalEncoder()\n",
    "data_encoded = encoder.fit_transform(X)\n",
    "data_x = pd.DataFrame(data_encoded)\n",
    "data_encoded\n",
    "\n",
    "encoder = LabelEncoder()\n",
    "target_encoded = encoder.fit_transform(y)\n",
    "# car_df_encoded['class'] = target_encoded\n",
    "# encoder.inverse_transform(target_encoded)"
   ]
  },
  {
   "cell_type": "code",
   "execution_count": 40,
   "metadata": {
    "colab": {
     "base_uri": "https://localhost:8080/"
    },
    "executionInfo": {
     "elapsed": 45,
     "status": "ok",
     "timestamp": 1642528829176,
     "user": {
      "displayName": "Sneha Kulkarni",
      "photoUrl": "https://lh3.googleusercontent.com/a/default-user=s64",
      "userId": "13641806021709480975"
     },
     "user_tz": -330
    },
    "id": "FdOsmgUpTdEU",
    "outputId": "475ef809-1acd-4ab4-ea0c-92555e0f1433"
   },
   "outputs": [
    {
     "name": "stdout",
     "output_type": "stream",
     "text": [
      "Recall score :  0.5612612612612613\n",
      "Precision score :  0.5612612612612613\n",
      "F1 score :  0.5612612612612613\n",
      "accuracy score 0.5612612612612613\n"
     ]
    },
    {
     "name": "stderr",
     "output_type": "stream",
     "text": [
      "/usr/local/lib/python3.7/dist-packages/sklearn/utils/validation.py:993: DataConversionWarning: A column-vector y was passed when a 1d array was expected. Please change the shape of y to (n_samples, ), for example using ravel().\n",
      "  y = column_or_1d(y, warn=True)\n",
      "/usr/local/lib/python3.7/dist-packages/sklearn/utils/validation.py:993: DataConversionWarning: A column-vector y was passed when a 1d array was expected. Please change the shape of y to (n_samples, ), for example using ravel().\n",
      "  y = column_or_1d(y, warn=True)\n"
     ]
    }
   ],
   "source": [
    "X_train, X_test, y_train, y_test = train_test_split(data_x, y, test_size=0.3, random_state=143)\n",
    "\n",
    "cnb = CategoricalNB()\n",
    "cnb.fit(X_train, y_train)\n",
    "\n",
    "gnb = GaussianNB()\n",
    "gnb.fit(X_train, y_train)\n",
    "\n",
    "y_pred_cnb = cnb.predict(X_test)\n",
    "y_prob_pred_cnb = cnb.predict_proba(X_test)\n",
    "\n",
    "print(\"Recall score : \", recall_score(y_test, y_pred_cnb , average='micro'))\n",
    "print(\"Precision score : \",precision_score(y_test, y_pred_cnb , average='micro'))\n",
    "print(\"F1 score : \",f1_score(y_test, y_pred_cnb , average='micro'))\n",
    "print('accuracy score', accuracy_score(y_test, y_pred_cnb) )"
   ]
  },
  {
   "cell_type": "markdown",
   "metadata": {
    "id": "OMQ3pazb7_d8"
   },
   "source": [
    "**Supervised Learning Technique**\n",
    "\n",
    "\n",
    "Can we predict the funding amount given the industry and location of the startup?\n",
    "It has one unknown variable and two known variables. It can be done using Linear Regression.\n",
    "\n",
    "**Linear Regression**:\n",
    "Linear regression is a linear approach for modelling the relationship between a scalar response and one or more explanatory variables (also known as dependent and independent variables). The case of one explanatory variable is called simple linear regression; for more than one, the process is called multiple linear regression.\n",
    "\n"
   ]
  }
 ],
 "metadata": {
  "colab": {
   "collapsed_sections": [],
   "name": "project datascience.ipynb",
   "provenance": []
  },
  "kernelspec": {
   "display_name": "Python 3",
   "language": "python",
   "name": "python3"
  },
  "language_info": {
   "codemirror_mode": {
    "name": "ipython",
    "version": 3
   },
   "file_extension": ".py",
   "mimetype": "text/x-python",
   "name": "python",
   "nbconvert_exporter": "python",
   "pygments_lexer": "ipython3",
   "version": "3.8.3"
  }
 },
 "nbformat": 4,
 "nbformat_minor": 1
}
